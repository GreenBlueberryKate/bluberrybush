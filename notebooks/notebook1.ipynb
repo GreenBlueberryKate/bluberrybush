import pandas as pd
import numpy as np

import matplotlib.pyplot as plt

orders = pd.read_excel(r"C:\Users\katar\Desktop\orders.xlsx")
orders['OrderDate'] = pd.to_datetime(orders['OrderDate'])
orders['TotalRevenue'] = orders['UnitsPurchased'] * orders['PricePerUnit']

# initial checks
display(orders.head())
print(orders.info())
print(orders['ProductCategory'].value_counts())

# first chart: revenue by category
orders.groupby('ProductCategory')['TotalRevenue'].sum().plot(kind='bar', figsize=(8,4))
plt.title("Revenue by Product Category")
plt.ylabel("Total Revenue ($)")
plt.tight_layout(); plt.show()
