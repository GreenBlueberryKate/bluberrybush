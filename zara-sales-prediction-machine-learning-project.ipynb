{
 "cells": [
  {
   "cell_type": "markdown",
   "id": "171b998f",
   "metadata": {
    "papermill": {
     "duration": 0.01168,
     "end_time": "2025-11-01T15:56:09.031441",
     "exception": false,
     "start_time": "2025-11-01T15:56:09.019761",
     "status": "completed"
    },
    "tags": []
   },
   "source": [
    "# 🧠 Zara Sales Prediction — Machine Learning Project\n",
    "\n",
    "## 📌 Project Overview\n",
    "\n",
    "This project analyzes real product data from **Zara** to understand what drives high sales performance and to build a machine learning model that predicts whether a product will have **high sales volume** based on its attributes (price, promotion, product position, season, material, etc.).\n",
    "\n",
    "> Goal: help merchandisers and pricing teams predict product performance *before* launch.\n",
    "\n",
    "---\n",
    "\n",
    "## 🔍 Dataset\n",
    "\n",
    "Source: Kaggle — *Zara Sales Insights*\n",
    "\n",
    "**Each row = one product item.**\n",
    "\n",
    "| Column Name          | Description |\n",
    "|----------------------|-------------|\n",
    "| `price`              | Selling price of the product |\n",
    "| `Sales Volume`       | Number of units sold |\n",
    "| `Product Position`   | Aisle / End-cap / Wall placement |\n",
    "| `Promotion`          | Whether the product was promoted |\n",
    "| `terms`              | Clothing category (jackets, shirts, etc.) |\n",
    "| `season`             | When the product was released (Autumn, Winter…) |\n",
    "| `section`            | Target segment (WOMAN / MAN) |\n",
    "| `material`, `origin` | Product manufacturing info |\n",
    "\n",
    "---\n",
    "\n",
    "## 🧹 Data Preparation\n",
    "\n",
    "✅ Cleaned column names  \n",
    "✅ Converted categorical variables into numerical values using **One-Hot Encoding**  \n",
    "✅ Created a new binary target variable:\n",
    "\n",
    "```python\n",
    "# df['HighSales'] = (df['Sales Volume'] > df['Sales Volume'].median()).astype(int)"
   ]
  },
  {
   "cell_type": "markdown",
   "id": "d2089b4e",
   "metadata": {
    "papermill": {
     "duration": 0.009887,
     "end_time": "2025-11-01T15:56:09.051690",
     "exception": false,
     "start_time": "2025-11-01T15:56:09.041803",
     "status": "completed"
    },
    "tags": []
   },
   "source": [
    "🤖 Machine Learning Model\n",
    "Model used:\n",
    "\n",
    "✅ Random Forest Classifier\n",
    "\n",
    "Training process:\n",
    "\n",
    "Split data into train (80%) / test (20%)\n",
    "\n",
    "Encoded categorical features using get_dummies()\n",
    "\n",
    "Trained model to predict HighSales"
   ]
  },
  {
   "cell_type": "code",
   "execution_count": 1,
   "id": "6ceb45dc",
   "metadata": {
    "execution": {
     "iopub.execute_input": "2025-11-01T15:56:09.074285Z",
     "iopub.status.busy": "2025-11-01T15:56:09.073419Z",
     "iopub.status.idle": "2025-11-01T15:56:12.694854Z",
     "shell.execute_reply": "2025-11-01T15:56:12.693877Z"
    },
    "papermill": {
     "duration": 3.634792,
     "end_time": "2025-11-01T15:56:12.696581",
     "exception": false,
     "start_time": "2025-11-01T15:56:09.061789",
     "status": "completed"
    },
    "tags": []
   },
   "outputs": [],
   "source": [
    "import pandas as pd\n",
    "import numpy as np\n",
    "import seaborn as sns\n",
    "import matplotlib.pyplot as plt"
   ]
  },
  {
   "cell_type": "code",
   "execution_count": 2,
   "id": "201c181a",
   "metadata": {
    "execution": {
     "iopub.execute_input": "2025-11-01T15:56:12.718637Z",
     "iopub.status.busy": "2025-11-01T15:56:12.718208Z",
     "iopub.status.idle": "2025-11-01T15:56:13.014872Z",
     "shell.execute_reply": "2025-11-01T15:56:13.013871Z"
    },
    "papermill": {
     "duration": 0.309685,
     "end_time": "2025-11-01T15:56:13.016765",
     "exception": false,
     "start_time": "2025-11-01T15:56:12.707080",
     "status": "completed"
    },
    "tags": []
   },
   "outputs": [],
   "source": [
    "df = pd.read_csv(\"/kaggle/input/zara-sales-eda/Zara_sales_EDA.csv\")"
   ]
  },
  {
   "cell_type": "code",
   "execution_count": 3,
   "id": "422173e2",
   "metadata": {
    "execution": {
     "iopub.execute_input": "2025-11-01T15:56:13.039668Z",
     "iopub.status.busy": "2025-11-01T15:56:13.039325Z",
     "iopub.status.idle": "2025-11-01T15:56:13.068609Z",
     "shell.execute_reply": "2025-11-01T15:56:13.067665Z"
    },
    "papermill": {
     "duration": 0.042446,
     "end_time": "2025-11-01T15:56:13.070118",
     "exception": false,
     "start_time": "2025-11-01T15:56:13.027672",
     "status": "completed"
    },
    "tags": []
   },
   "outputs": [
    {
     "data": {
      "text/html": [
       "<div>\n",
       "<style scoped>\n",
       "    .dataframe tbody tr th:only-of-type {\n",
       "        vertical-align: middle;\n",
       "    }\n",
       "\n",
       "    .dataframe tbody tr th {\n",
       "        vertical-align: top;\n",
       "    }\n",
       "\n",
       "    .dataframe thead th {\n",
       "        text-align: right;\n",
       "    }\n",
       "</style>\n",
       "<table border=\"1\" class=\"dataframe\">\n",
       "  <thead>\n",
       "    <tr style=\"text-align: right;\">\n",
       "      <th></th>\n",
       "      <th>Product ID</th>\n",
       "      <th>Product Position</th>\n",
       "      <th>Promotion</th>\n",
       "      <th>Product Category</th>\n",
       "      <th>Seasonal</th>\n",
       "      <th>Sales Volume</th>\n",
       "      <th>brand</th>\n",
       "      <th>url</th>\n",
       "      <th>name</th>\n",
       "      <th>description</th>\n",
       "      <th>price</th>\n",
       "      <th>currency</th>\n",
       "      <th>terms</th>\n",
       "      <th>section</th>\n",
       "      <th>season</th>\n",
       "      <th>material</th>\n",
       "      <th>origin</th>\n",
       "    </tr>\n",
       "  </thead>\n",
       "  <tbody>\n",
       "    <tr>\n",
       "      <th>0</th>\n",
       "      <td>185102</td>\n",
       "      <td>Aisle</td>\n",
       "      <td>Yes</td>\n",
       "      <td>clothing</td>\n",
       "      <td>Yes</td>\n",
       "      <td>1243</td>\n",
       "      <td>Zara</td>\n",
       "      <td>https://www.zara.com/us/en/basic-puffer-jacket...</td>\n",
       "      <td>BASIC PUFFER JACKET</td>\n",
       "      <td>Puffer jacket made of tear-resistant ripstop f...</td>\n",
       "      <td>78.99</td>\n",
       "      <td>USD</td>\n",
       "      <td>jackets</td>\n",
       "      <td>MAN</td>\n",
       "      <td>Winter</td>\n",
       "      <td>Polyester</td>\n",
       "      <td>Brazil</td>\n",
       "    </tr>\n",
       "    <tr>\n",
       "      <th>1</th>\n",
       "      <td>188771</td>\n",
       "      <td>Aisle</td>\n",
       "      <td>Yes</td>\n",
       "      <td>clothing</td>\n",
       "      <td>No</td>\n",
       "      <td>1429</td>\n",
       "      <td>Zara</td>\n",
       "      <td>https://www.zara.com/us/en/tuxedo-jacket-p0889...</td>\n",
       "      <td>TUXEDO JACKET</td>\n",
       "      <td>Straight fit blazer. Pointed lapel collar and ...</td>\n",
       "      <td>14.99</td>\n",
       "      <td>USD</td>\n",
       "      <td>jackets</td>\n",
       "      <td>MAN</td>\n",
       "      <td>Autumn</td>\n",
       "      <td>Cotton</td>\n",
       "      <td>Turkey</td>\n",
       "    </tr>\n",
       "    <tr>\n",
       "      <th>2</th>\n",
       "      <td>180176</td>\n",
       "      <td>End-cap</td>\n",
       "      <td>Yes</td>\n",
       "      <td>clothing</td>\n",
       "      <td>Yes</td>\n",
       "      <td>1168</td>\n",
       "      <td>Zara</td>\n",
       "      <td>https://www.zara.com/us/en/slim-fit-suit-jacke...</td>\n",
       "      <td>SLIM FIT SUIT JACKET</td>\n",
       "      <td>Slim fit jacket. Notched lapel collar. Long sl...</td>\n",
       "      <td>71.95</td>\n",
       "      <td>USD</td>\n",
       "      <td>jackets</td>\n",
       "      <td>WOMAN</td>\n",
       "      <td>Autumn</td>\n",
       "      <td>Polyester</td>\n",
       "      <td>Morocco</td>\n",
       "    </tr>\n",
       "    <tr>\n",
       "      <th>3</th>\n",
       "      <td>112917</td>\n",
       "      <td>Aisle</td>\n",
       "      <td>Yes</td>\n",
       "      <td>clothing</td>\n",
       "      <td>No</td>\n",
       "      <td>1348</td>\n",
       "      <td>Zara</td>\n",
       "      <td>https://www.zara.com/us/en/stretch-suit-jacket...</td>\n",
       "      <td>STRETCH SUIT JACKET</td>\n",
       "      <td>Slim fit jacket made of viscose blend fabric. ...</td>\n",
       "      <td>30.99</td>\n",
       "      <td>USD</td>\n",
       "      <td>jackets</td>\n",
       "      <td>MAN</td>\n",
       "      <td>Spring</td>\n",
       "      <td>Polyester</td>\n",
       "      <td>China</td>\n",
       "    </tr>\n",
       "    <tr>\n",
       "      <th>4</th>\n",
       "      <td>192936</td>\n",
       "      <td>End-cap</td>\n",
       "      <td>Yes</td>\n",
       "      <td>clothing</td>\n",
       "      <td>Yes</td>\n",
       "      <td>1602</td>\n",
       "      <td>Zara</td>\n",
       "      <td>https://www.zara.com/us/en/double-faced-jacket...</td>\n",
       "      <td>DOUBLE FACED JACKET</td>\n",
       "      <td>Jacket made of faux leather faux shearling wit...</td>\n",
       "      <td>22.99</td>\n",
       "      <td>USD</td>\n",
       "      <td>jackets</td>\n",
       "      <td>WOMAN</td>\n",
       "      <td>Winter</td>\n",
       "      <td>Wool Blend</td>\n",
       "      <td>China</td>\n",
       "    </tr>\n",
       "  </tbody>\n",
       "</table>\n",
       "</div>"
      ],
      "text/plain": [
       "   Product ID Product Position Promotion Product Category Seasonal  \\\n",
       "0      185102            Aisle       Yes         clothing      Yes   \n",
       "1      188771            Aisle       Yes         clothing       No   \n",
       "2      180176          End-cap       Yes         clothing      Yes   \n",
       "3      112917            Aisle       Yes         clothing       No   \n",
       "4      192936          End-cap       Yes         clothing      Yes   \n",
       "\n",
       "   Sales Volume brand                                                url  \\\n",
       "0          1243  Zara  https://www.zara.com/us/en/basic-puffer-jacket...   \n",
       "1          1429  Zara  https://www.zara.com/us/en/tuxedo-jacket-p0889...   \n",
       "2          1168  Zara  https://www.zara.com/us/en/slim-fit-suit-jacke...   \n",
       "3          1348  Zara  https://www.zara.com/us/en/stretch-suit-jacket...   \n",
       "4          1602  Zara  https://www.zara.com/us/en/double-faced-jacket...   \n",
       "\n",
       "                   name                                        description  \\\n",
       "0   BASIC PUFFER JACKET  Puffer jacket made of tear-resistant ripstop f...   \n",
       "1         TUXEDO JACKET  Straight fit blazer. Pointed lapel collar and ...   \n",
       "2  SLIM FIT SUIT JACKET  Slim fit jacket. Notched lapel collar. Long sl...   \n",
       "3   STRETCH SUIT JACKET  Slim fit jacket made of viscose blend fabric. ...   \n",
       "4   DOUBLE FACED JACKET  Jacket made of faux leather faux shearling wit...   \n",
       "\n",
       "   price currency    terms section  season    material   origin  \n",
       "0  78.99      USD  jackets     MAN  Winter   Polyester   Brazil  \n",
       "1  14.99      USD  jackets     MAN  Autumn      Cotton   Turkey  \n",
       "2  71.95      USD  jackets   WOMAN  Autumn   Polyester  Morocco  \n",
       "3  30.99      USD  jackets     MAN  Spring   Polyester    China  \n",
       "4  22.99      USD  jackets   WOMAN  Winter  Wool Blend    China  "
      ]
     },
     "execution_count": 3,
     "metadata": {},
     "output_type": "execute_result"
    }
   ],
   "source": [
    "df.head()"
   ]
  },
  {
   "cell_type": "code",
   "execution_count": 4,
   "id": "39a30c6c",
   "metadata": {
    "execution": {
     "iopub.execute_input": "2025-11-01T15:56:13.092774Z",
     "iopub.status.busy": "2025-11-01T15:56:13.092427Z",
     "iopub.status.idle": "2025-11-01T15:56:13.130261Z",
     "shell.execute_reply": "2025-11-01T15:56:13.129100Z"
    },
    "papermill": {
     "duration": 0.050792,
     "end_time": "2025-11-01T15:56:13.131806",
     "exception": false,
     "start_time": "2025-11-01T15:56:13.081014",
     "status": "completed"
    },
    "tags": []
   },
   "outputs": [
    {
     "name": "stdout",
     "output_type": "stream",
     "text": [
      "<class 'pandas.core.frame.DataFrame'>\n",
      "RangeIndex: 20252 entries, 0 to 20251\n",
      "Data columns (total 17 columns):\n",
      " #   Column            Non-Null Count  Dtype  \n",
      "---  ------            --------------  -----  \n",
      " 0   Product ID        20252 non-null  int64  \n",
      " 1   Product Position  20252 non-null  object \n",
      " 2   Promotion         20252 non-null  object \n",
      " 3   Product Category  20252 non-null  object \n",
      " 4   Seasonal          20252 non-null  object \n",
      " 5   Sales Volume      20252 non-null  int64  \n",
      " 6   brand             20252 non-null  object \n",
      " 7   url               20252 non-null  object \n",
      " 8   name              20251 non-null  object \n",
      " 9   description       20250 non-null  object \n",
      " 10  price             20252 non-null  float64\n",
      " 11  currency          20252 non-null  object \n",
      " 12  terms             20252 non-null  object \n",
      " 13  section           20252 non-null  object \n",
      " 14  season            20252 non-null  object \n",
      " 15  material          20252 non-null  object \n",
      " 16  origin            20252 non-null  object \n",
      "dtypes: float64(1), int64(2), object(14)\n",
      "memory usage: 2.6+ MB\n"
     ]
    }
   ],
   "source": [
    "df.info()"
   ]
  },
  {
   "cell_type": "code",
   "execution_count": 5,
   "id": "50bede7f",
   "metadata": {
    "execution": {
     "iopub.execute_input": "2025-11-01T15:56:13.154278Z",
     "iopub.status.busy": "2025-11-01T15:56:13.153983Z",
     "iopub.status.idle": "2025-11-01T15:56:13.159478Z",
     "shell.execute_reply": "2025-11-01T15:56:13.158637Z"
    },
    "papermill": {
     "duration": 0.018162,
     "end_time": "2025-11-01T15:56:13.160810",
     "exception": false,
     "start_time": "2025-11-01T15:56:13.142648",
     "status": "completed"
    },
    "tags": []
   },
   "outputs": [
    {
     "data": {
      "text/plain": [
       "(20252, 17)"
      ]
     },
     "execution_count": 5,
     "metadata": {},
     "output_type": "execute_result"
    }
   ],
   "source": [
    "df.shape"
   ]
  },
  {
   "cell_type": "code",
   "execution_count": 6,
   "id": "e8cf332e",
   "metadata": {
    "execution": {
     "iopub.execute_input": "2025-11-01T15:56:13.182961Z",
     "iopub.status.busy": "2025-11-01T15:56:13.182694Z",
     "iopub.status.idle": "2025-11-01T15:56:13.204175Z",
     "shell.execute_reply": "2025-11-01T15:56:13.203424Z"
    },
    "papermill": {
     "duration": 0.034099,
     "end_time": "2025-11-01T15:56:13.205647",
     "exception": false,
     "start_time": "2025-11-01T15:56:13.171548",
     "status": "completed"
    },
    "tags": []
   },
   "outputs": [
    {
     "data": {
      "text/plain": [
       "Product ID          0\n",
       "Product Position    0\n",
       "Promotion           0\n",
       "Product Category    0\n",
       "Seasonal            0\n",
       "Sales Volume        0\n",
       "brand               0\n",
       "url                 0\n",
       "name                1\n",
       "description         2\n",
       "price               0\n",
       "currency            0\n",
       "terms               0\n",
       "section             0\n",
       "season              0\n",
       "material            0\n",
       "origin              0\n",
       "dtype: int64"
      ]
     },
     "execution_count": 6,
     "metadata": {},
     "output_type": "execute_result"
    }
   ],
   "source": [
    "df.isnull().sum()"
   ]
  },
  {
   "cell_type": "code",
   "execution_count": 7,
   "id": "7f51724e",
   "metadata": {
    "execution": {
     "iopub.execute_input": "2025-11-01T15:56:13.228242Z",
     "iopub.status.busy": "2025-11-01T15:56:13.227923Z",
     "iopub.status.idle": "2025-11-01T15:56:13.262975Z",
     "shell.execute_reply": "2025-11-01T15:56:13.261988Z"
    },
    "papermill": {
     "duration": 0.04801,
     "end_time": "2025-11-01T15:56:13.264396",
     "exception": false,
     "start_time": "2025-11-01T15:56:13.216386",
     "status": "completed"
    },
    "tags": []
   },
   "outputs": [
    {
     "data": {
      "text/html": [
       "<div>\n",
       "<style scoped>\n",
       "    .dataframe tbody tr th:only-of-type {\n",
       "        vertical-align: middle;\n",
       "    }\n",
       "\n",
       "    .dataframe tbody tr th {\n",
       "        vertical-align: top;\n",
       "    }\n",
       "\n",
       "    .dataframe thead th {\n",
       "        text-align: right;\n",
       "    }\n",
       "</style>\n",
       "<table border=\"1\" class=\"dataframe\">\n",
       "  <thead>\n",
       "    <tr style=\"text-align: right;\">\n",
       "      <th></th>\n",
       "      <th>Product ID</th>\n",
       "      <th>Product Position</th>\n",
       "      <th>Promotion</th>\n",
       "      <th>Product Category</th>\n",
       "      <th>Seasonal</th>\n",
       "      <th>Sales Volume</th>\n",
       "      <th>brand</th>\n",
       "      <th>url</th>\n",
       "      <th>name</th>\n",
       "      <th>description</th>\n",
       "      <th>price</th>\n",
       "      <th>currency</th>\n",
       "      <th>terms</th>\n",
       "      <th>section</th>\n",
       "      <th>season</th>\n",
       "      <th>material</th>\n",
       "      <th>origin</th>\n",
       "    </tr>\n",
       "  </thead>\n",
       "  <tbody>\n",
       "  </tbody>\n",
       "</table>\n",
       "</div>"
      ],
      "text/plain": [
       "Empty DataFrame\n",
       "Columns: [Product ID, Product Position, Promotion, Product Category, Seasonal, Sales Volume, brand, url, name, description, price, currency, terms, section, season, material, origin]\n",
       "Index: []"
      ]
     },
     "execution_count": 7,
     "metadata": {},
     "output_type": "execute_result"
    }
   ],
   "source": [
    "df[df.duplicated()]"
   ]
  },
  {
   "cell_type": "code",
   "execution_count": 8,
   "id": "28ca0e92",
   "metadata": {
    "execution": {
     "iopub.execute_input": "2025-11-01T15:56:13.287414Z",
     "iopub.status.busy": "2025-11-01T15:56:13.286784Z",
     "iopub.status.idle": "2025-11-01T15:56:13.294068Z",
     "shell.execute_reply": "2025-11-01T15:56:13.293359Z"
    },
    "papermill": {
     "duration": 0.020151,
     "end_time": "2025-11-01T15:56:13.295356",
     "exception": false,
     "start_time": "2025-11-01T15:56:13.275205",
     "status": "completed"
    },
    "tags": []
   },
   "outputs": [
    {
     "data": {
      "text/plain": [
       "terms\n",
       "jackets     11232\n",
       "sweaters     3257\n",
       "t-shirts     2646\n",
       "shoes        2458\n",
       "jeans         659\n",
       "Name: count, dtype: int64"
      ]
     },
     "execution_count": 8,
     "metadata": {},
     "output_type": "execute_result"
    }
   ],
   "source": [
    "df['terms'].value_counts(dropna=False)"
   ]
  },
  {
   "cell_type": "code",
   "execution_count": 9,
   "id": "b61e8a5b",
   "metadata": {
    "execution": {
     "iopub.execute_input": "2025-11-01T15:56:13.319531Z",
     "iopub.status.busy": "2025-11-01T15:56:13.319229Z",
     "iopub.status.idle": "2025-11-01T15:56:13.326295Z",
     "shell.execute_reply": "2025-11-01T15:56:13.325646Z"
    },
    "papermill": {
     "duration": 0.0214,
     "end_time": "2025-11-01T15:56:13.327582",
     "exception": false,
     "start_time": "2025-11-01T15:56:13.306182",
     "status": "completed"
    },
    "tags": []
   },
   "outputs": [
    {
     "data": {
      "text/plain": [
       "section\n",
       "WOMAN    13254\n",
       "MAN       6998\n",
       "Name: count, dtype: int64"
      ]
     },
     "execution_count": 9,
     "metadata": {},
     "output_type": "execute_result"
    }
   ],
   "source": [
    "df['section'].value_counts(dropna=False)"
   ]
  },
  {
   "cell_type": "code",
   "execution_count": 10,
   "id": "b21cc41e",
   "metadata": {
    "execution": {
     "iopub.execute_input": "2025-11-01T15:56:13.350654Z",
     "iopub.status.busy": "2025-11-01T15:56:13.350371Z",
     "iopub.status.idle": "2025-11-01T15:56:13.357384Z",
     "shell.execute_reply": "2025-11-01T15:56:13.356717Z"
    },
    "papermill": {
     "duration": 0.019833,
     "end_time": "2025-11-01T15:56:13.358710",
     "exception": false,
     "start_time": "2025-11-01T15:56:13.338877",
     "status": "completed"
    },
    "tags": []
   },
   "outputs": [
    {
     "data": {
      "text/plain": [
       "season\n",
       "Autumn    7665\n",
       "Winter    5144\n",
       "Spring    4537\n",
       "Summer    2906\n",
       "Name: count, dtype: int64"
      ]
     },
     "execution_count": 10,
     "metadata": {},
     "output_type": "execute_result"
    }
   ],
   "source": [
    "df['season'].value_counts(dropna=False)"
   ]
  },
  {
   "cell_type": "code",
   "execution_count": 11,
   "id": "3b511061",
   "metadata": {
    "execution": {
     "iopub.execute_input": "2025-11-01T15:56:13.381569Z",
     "iopub.status.busy": "2025-11-01T15:56:13.381304Z",
     "iopub.status.idle": "2025-11-01T15:56:13.388774Z",
     "shell.execute_reply": "2025-11-01T15:56:13.387878Z"
    },
    "papermill": {
     "duration": 0.020392,
     "end_time": "2025-11-01T15:56:13.390105",
     "exception": false,
     "start_time": "2025-11-01T15:56:13.369713",
     "status": "completed"
    },
    "tags": []
   },
   "outputs": [
    {
     "data": {
      "text/plain": [
       "material\n",
       "Cotton         3851\n",
       "Wool           3805\n",
       "Wool Blend     3373\n",
       "Polyester      2775\n",
       "Linen          2573\n",
       "Denim          1027\n",
       "Viscose         990\n",
       "Acrylic         881\n",
       "Linen Blend     807\n",
       "Satin           132\n",
       "Silk             38\n",
       "Name: count, dtype: int64"
      ]
     },
     "execution_count": 11,
     "metadata": {},
     "output_type": "execute_result"
    }
   ],
   "source": [
    "df['material'].value_counts(dropna=False)"
   ]
  },
  {
   "cell_type": "code",
   "execution_count": 12,
   "id": "bdac053d",
   "metadata": {
    "execution": {
     "iopub.execute_input": "2025-11-01T15:56:13.413421Z",
     "iopub.status.busy": "2025-11-01T15:56:13.413112Z",
     "iopub.status.idle": "2025-11-01T15:56:13.420392Z",
     "shell.execute_reply": "2025-11-01T15:56:13.419537Z"
    },
    "papermill": {
     "duration": 0.020663,
     "end_time": "2025-11-01T15:56:13.421813",
     "exception": false,
     "start_time": "2025-11-01T15:56:13.401150",
     "status": "completed"
    },
    "tags": []
   },
   "outputs": [
    {
     "data": {
      "text/plain": [
       "origin\n",
       "China         4026\n",
       "Bangladesh    3617\n",
       "Turkey        2475\n",
       "India         2033\n",
       "Morocco       1653\n",
       "Portugal      1420\n",
       "Spain         1248\n",
       "Vietnam       1220\n",
       "Cambodia       981\n",
       "Brazil         795\n",
       "Pakistan       605\n",
       "Argentina      179\n",
       "Name: count, dtype: int64"
      ]
     },
     "execution_count": 12,
     "metadata": {},
     "output_type": "execute_result"
    }
   ],
   "source": [
    "df['origin'].value_counts(dropna=False)"
   ]
  },
  {
   "cell_type": "code",
   "execution_count": 13,
   "id": "ffe1043e",
   "metadata": {
    "execution": {
     "iopub.execute_input": "2025-11-01T15:56:13.445657Z",
     "iopub.status.busy": "2025-11-01T15:56:13.445322Z",
     "iopub.status.idle": "2025-11-01T15:56:13.452714Z",
     "shell.execute_reply": "2025-11-01T15:56:13.451915Z"
    },
    "papermill": {
     "duration": 0.021086,
     "end_time": "2025-11-01T15:56:13.454140",
     "exception": false,
     "start_time": "2025-11-01T15:56:13.433054",
     "status": "completed"
    },
    "tags": []
   },
   "outputs": [
    {
     "data": {
      "text/plain": [
       "brand\n",
       "Zara    20252\n",
       "Name: count, dtype: int64"
      ]
     },
     "execution_count": 13,
     "metadata": {},
     "output_type": "execute_result"
    }
   ],
   "source": [
    "df['brand'].value_counts(dropna=False)"
   ]
  },
  {
   "cell_type": "code",
   "execution_count": 14,
   "id": "fb98cd77",
   "metadata": {
    "execution": {
     "iopub.execute_input": "2025-11-01T15:56:13.478066Z",
     "iopub.status.busy": "2025-11-01T15:56:13.477455Z",
     "iopub.status.idle": "2025-11-01T15:56:13.484419Z",
     "shell.execute_reply": "2025-11-01T15:56:13.483493Z"
    },
    "papermill": {
     "duration": 0.02028,
     "end_time": "2025-11-01T15:56:13.485763",
     "exception": false,
     "start_time": "2025-11-01T15:56:13.465483",
     "status": "completed"
    },
    "tags": []
   },
   "outputs": [],
   "source": [
    "df = df.drop(columns=['brand', 'description', 'url', 'Product Category'])"
   ]
  },
  {
   "cell_type": "code",
   "execution_count": 15,
   "id": "d29f6dff",
   "metadata": {
    "execution": {
     "iopub.execute_input": "2025-11-01T15:56:13.510297Z",
     "iopub.status.busy": "2025-11-01T15:56:13.509651Z",
     "iopub.status.idle": "2025-11-01T15:56:13.521991Z",
     "shell.execute_reply": "2025-11-01T15:56:13.521109Z"
    },
    "papermill": {
     "duration": 0.026001,
     "end_time": "2025-11-01T15:56:13.523212",
     "exception": false,
     "start_time": "2025-11-01T15:56:13.497211",
     "status": "completed"
    },
    "tags": []
   },
   "outputs": [
    {
     "data": {
      "text/html": [
       "<div>\n",
       "<style scoped>\n",
       "    .dataframe tbody tr th:only-of-type {\n",
       "        vertical-align: middle;\n",
       "    }\n",
       "\n",
       "    .dataframe tbody tr th {\n",
       "        vertical-align: top;\n",
       "    }\n",
       "\n",
       "    .dataframe thead th {\n",
       "        text-align: right;\n",
       "    }\n",
       "</style>\n",
       "<table border=\"1\" class=\"dataframe\">\n",
       "  <thead>\n",
       "    <tr style=\"text-align: right;\">\n",
       "      <th></th>\n",
       "      <th>Product ID</th>\n",
       "      <th>Product Position</th>\n",
       "      <th>Promotion</th>\n",
       "      <th>Seasonal</th>\n",
       "      <th>Sales Volume</th>\n",
       "      <th>name</th>\n",
       "      <th>price</th>\n",
       "      <th>currency</th>\n",
       "      <th>terms</th>\n",
       "      <th>section</th>\n",
       "      <th>season</th>\n",
       "      <th>material</th>\n",
       "      <th>origin</th>\n",
       "    </tr>\n",
       "  </thead>\n",
       "  <tbody>\n",
       "    <tr>\n",
       "      <th>0</th>\n",
       "      <td>185102</td>\n",
       "      <td>Aisle</td>\n",
       "      <td>Yes</td>\n",
       "      <td>Yes</td>\n",
       "      <td>1243</td>\n",
       "      <td>BASIC PUFFER JACKET</td>\n",
       "      <td>78.99</td>\n",
       "      <td>USD</td>\n",
       "      <td>jackets</td>\n",
       "      <td>MAN</td>\n",
       "      <td>Winter</td>\n",
       "      <td>Polyester</td>\n",
       "      <td>Brazil</td>\n",
       "    </tr>\n",
       "    <tr>\n",
       "      <th>1</th>\n",
       "      <td>188771</td>\n",
       "      <td>Aisle</td>\n",
       "      <td>Yes</td>\n",
       "      <td>No</td>\n",
       "      <td>1429</td>\n",
       "      <td>TUXEDO JACKET</td>\n",
       "      <td>14.99</td>\n",
       "      <td>USD</td>\n",
       "      <td>jackets</td>\n",
       "      <td>MAN</td>\n",
       "      <td>Autumn</td>\n",
       "      <td>Cotton</td>\n",
       "      <td>Turkey</td>\n",
       "    </tr>\n",
       "    <tr>\n",
       "      <th>2</th>\n",
       "      <td>180176</td>\n",
       "      <td>End-cap</td>\n",
       "      <td>Yes</td>\n",
       "      <td>Yes</td>\n",
       "      <td>1168</td>\n",
       "      <td>SLIM FIT SUIT JACKET</td>\n",
       "      <td>71.95</td>\n",
       "      <td>USD</td>\n",
       "      <td>jackets</td>\n",
       "      <td>WOMAN</td>\n",
       "      <td>Autumn</td>\n",
       "      <td>Polyester</td>\n",
       "      <td>Morocco</td>\n",
       "    </tr>\n",
       "    <tr>\n",
       "      <th>3</th>\n",
       "      <td>112917</td>\n",
       "      <td>Aisle</td>\n",
       "      <td>Yes</td>\n",
       "      <td>No</td>\n",
       "      <td>1348</td>\n",
       "      <td>STRETCH SUIT JACKET</td>\n",
       "      <td>30.99</td>\n",
       "      <td>USD</td>\n",
       "      <td>jackets</td>\n",
       "      <td>MAN</td>\n",
       "      <td>Spring</td>\n",
       "      <td>Polyester</td>\n",
       "      <td>China</td>\n",
       "    </tr>\n",
       "    <tr>\n",
       "      <th>4</th>\n",
       "      <td>192936</td>\n",
       "      <td>End-cap</td>\n",
       "      <td>Yes</td>\n",
       "      <td>Yes</td>\n",
       "      <td>1602</td>\n",
       "      <td>DOUBLE FACED JACKET</td>\n",
       "      <td>22.99</td>\n",
       "      <td>USD</td>\n",
       "      <td>jackets</td>\n",
       "      <td>WOMAN</td>\n",
       "      <td>Winter</td>\n",
       "      <td>Wool Blend</td>\n",
       "      <td>China</td>\n",
       "    </tr>\n",
       "  </tbody>\n",
       "</table>\n",
       "</div>"
      ],
      "text/plain": [
       "   Product ID Product Position Promotion Seasonal  Sales Volume  \\\n",
       "0      185102            Aisle       Yes      Yes          1243   \n",
       "1      188771            Aisle       Yes       No          1429   \n",
       "2      180176          End-cap       Yes      Yes          1168   \n",
       "3      112917            Aisle       Yes       No          1348   \n",
       "4      192936          End-cap       Yes      Yes          1602   \n",
       "\n",
       "                   name  price currency    terms section  season    material  \\\n",
       "0   BASIC PUFFER JACKET  78.99      USD  jackets     MAN  Winter   Polyester   \n",
       "1         TUXEDO JACKET  14.99      USD  jackets     MAN  Autumn      Cotton   \n",
       "2  SLIM FIT SUIT JACKET  71.95      USD  jackets   WOMAN  Autumn   Polyester   \n",
       "3   STRETCH SUIT JACKET  30.99      USD  jackets     MAN  Spring   Polyester   \n",
       "4   DOUBLE FACED JACKET  22.99      USD  jackets   WOMAN  Winter  Wool Blend   \n",
       "\n",
       "    origin  \n",
       "0   Brazil  \n",
       "1   Turkey  \n",
       "2  Morocco  \n",
       "3    China  \n",
       "4    China  "
      ]
     },
     "execution_count": 15,
     "metadata": {},
     "output_type": "execute_result"
    }
   ],
   "source": [
    "df.head()"
   ]
  },
  {
   "cell_type": "code",
   "execution_count": 16,
   "id": "59b52c00",
   "metadata": {
    "execution": {
     "iopub.execute_input": "2025-11-01T15:56:13.547233Z",
     "iopub.status.busy": "2025-11-01T15:56:13.546907Z",
     "iopub.status.idle": "2025-11-01T15:56:13.557303Z",
     "shell.execute_reply": "2025-11-01T15:56:13.556420Z"
    },
    "papermill": {
     "duration": 0.023995,
     "end_time": "2025-11-01T15:56:13.558809",
     "exception": false,
     "start_time": "2025-11-01T15:56:13.534814",
     "status": "completed"
    },
    "tags": []
   },
   "outputs": [],
   "source": [
    "df['total revenue'] = round(df['Sales Volume'] * df['price'],1)"
   ]
  },
  {
   "cell_type": "code",
   "execution_count": 17,
   "id": "6f3bc888",
   "metadata": {
    "execution": {
     "iopub.execute_input": "2025-11-01T15:56:13.583543Z",
     "iopub.status.busy": "2025-11-01T15:56:13.583255Z",
     "iopub.status.idle": "2025-11-01T15:56:13.590685Z",
     "shell.execute_reply": "2025-11-01T15:56:13.589856Z"
    },
    "papermill": {
     "duration": 0.021726,
     "end_time": "2025-11-01T15:56:13.592124",
     "exception": false,
     "start_time": "2025-11-01T15:56:13.570398",
     "status": "completed"
    },
    "tags": []
   },
   "outputs": [
    {
     "data": {
      "text/plain": [
       "Promotion\n",
       "No     11812\n",
       "Yes     8440\n",
       "Name: count, dtype: int64"
      ]
     },
     "execution_count": 17,
     "metadata": {},
     "output_type": "execute_result"
    }
   ],
   "source": [
    "df['Promotion'].value_counts(dropna=False)"
   ]
  },
  {
   "cell_type": "code",
   "execution_count": 18,
   "id": "46773078",
   "metadata": {
    "execution": {
     "iopub.execute_input": "2025-11-01T15:56:13.616723Z",
     "iopub.status.busy": "2025-11-01T15:56:13.615980Z",
     "iopub.status.idle": "2025-11-01T15:56:13.623248Z",
     "shell.execute_reply": "2025-11-01T15:56:13.622552Z"
    },
    "papermill": {
     "duration": 0.020809,
     "end_time": "2025-11-01T15:56:13.624574",
     "exception": false,
     "start_time": "2025-11-01T15:56:13.603765",
     "status": "completed"
    },
    "tags": []
   },
   "outputs": [
    {
     "data": {
      "text/plain": [
       "Seasonal\n",
       "No     10136\n",
       "Yes    10116\n",
       "Name: count, dtype: int64"
      ]
     },
     "execution_count": 18,
     "metadata": {},
     "output_type": "execute_result"
    }
   ],
   "source": [
    "df['Seasonal'].value_counts(dropna=False)"
   ]
  },
  {
   "cell_type": "code",
   "execution_count": 19,
   "id": "070a0f78",
   "metadata": {
    "execution": {
     "iopub.execute_input": "2025-11-01T15:56:13.649246Z",
     "iopub.status.busy": "2025-11-01T15:56:13.648965Z",
     "iopub.status.idle": "2025-11-01T15:56:13.654241Z",
     "shell.execute_reply": "2025-11-01T15:56:13.653368Z"
    },
    "papermill": {
     "duration": 0.019382,
     "end_time": "2025-11-01T15:56:13.655729",
     "exception": false,
     "start_time": "2025-11-01T15:56:13.636347",
     "status": "completed"
    },
    "tags": []
   },
   "outputs": [],
   "source": [
    "df['median price'] = df['price'].median()"
   ]
  },
  {
   "cell_type": "code",
   "execution_count": 20,
   "id": "0fca1e1b",
   "metadata": {
    "execution": {
     "iopub.execute_input": "2025-11-01T15:56:13.680562Z",
     "iopub.status.busy": "2025-11-01T15:56:13.680018Z",
     "iopub.status.idle": "2025-11-01T15:56:13.685441Z",
     "shell.execute_reply": "2025-11-01T15:56:13.684634Z"
    },
    "papermill": {
     "duration": 0.019146,
     "end_time": "2025-11-01T15:56:13.686825",
     "exception": false,
     "start_time": "2025-11-01T15:56:13.667679",
     "status": "completed"
    },
    "tags": []
   },
   "outputs": [],
   "source": [
    "df['premium item'] = np.where(df['price'] > df['median price'], True, False)"
   ]
  },
  {
   "cell_type": "code",
   "execution_count": 21,
   "id": "36081fad",
   "metadata": {
    "execution": {
     "iopub.execute_input": "2025-11-01T15:56:13.711085Z",
     "iopub.status.busy": "2025-11-01T15:56:13.710804Z",
     "iopub.status.idle": "2025-11-01T15:56:13.716426Z",
     "shell.execute_reply": "2025-11-01T15:56:13.715651Z"
    },
    "papermill": {
     "duration": 0.019372,
     "end_time": "2025-11-01T15:56:13.717766",
     "exception": false,
     "start_time": "2025-11-01T15:56:13.698394",
     "status": "completed"
    },
    "tags": []
   },
   "outputs": [],
   "source": [
    "df['cost estimate'] = round(df['price'] * 0.4,1)"
   ]
  },
  {
   "cell_type": "markdown",
   "id": "ba9240fb",
   "metadata": {
    "papermill": {
     "duration": 0.011161,
     "end_time": "2025-11-01T15:56:13.740852",
     "exception": false,
     "start_time": "2025-11-01T15:56:13.729691",
     "status": "completed"
    },
    "tags": []
   },
   "source": [
    "What product section (MAN, WOMAN, etc.) generates the highest:\n",
    "\n",
    "sales volume?\n",
    "total revenue?"
   ]
  },
  {
   "cell_type": "code",
   "execution_count": 22,
   "id": "c107a289",
   "metadata": {
    "execution": {
     "iopub.execute_input": "2025-11-01T15:56:13.765113Z",
     "iopub.status.busy": "2025-11-01T15:56:13.764824Z",
     "iopub.status.idle": "2025-11-01T15:56:14.007772Z",
     "shell.execute_reply": "2025-11-01T15:56:14.006920Z"
    },
    "papermill": {
     "duration": 0.256765,
     "end_time": "2025-11-01T15:56:14.009315",
     "exception": false,
     "start_time": "2025-11-01T15:56:13.752550",
     "status": "completed"
    },
    "tags": []
   },
   "outputs": [
    {
     "data": {
      "text/plain": [
       "<Axes: title={'center': 'How much revenue is generated by each section'}, ylabel='total revenue'>"
      ]
     },
     "execution_count": 22,
     "metadata": {},
     "output_type": "execute_result"
    },
    {
     "data": {
      "image/png": "[encoded data removed]",
      "text/plain": [
       "<Figure size 640x480 with 1 Axes>"
      ]
     },
     "metadata": {},
     "output_type": "display_data"
    }
   ],
   "source": [
    "df.groupby('section')['total revenue'].sum().plot(\n",
    "    kind='pie',\n",
    "    title='How much revenue is generated by each section',\n",
    "    autopct = '%1.1f%%'\n",
    ")"
   ]
  },
  {
   "cell_type": "code",
   "execution_count": 23,
   "id": "b67418e0",
   "metadata": {
    "execution": {
     "iopub.execute_input": "2025-11-01T15:56:14.036685Z",
     "iopub.status.busy": "2025-11-01T15:56:14.036370Z",
     "iopub.status.idle": "2025-11-01T15:56:14.136582Z",
     "shell.execute_reply": "2025-11-01T15:56:14.135608Z"
    },
    "papermill": {
     "duration": 0.115499,
     "end_time": "2025-11-01T15:56:14.137992",
     "exception": false,
     "start_time": "2025-11-01T15:56:14.022493",
     "status": "completed"
    },
    "tags": []
   },
   "outputs": [
    {
     "data": {
      "text/plain": [
       "<Axes: title={'center': 'How much sales volume is generated by each section'}, ylabel='Sales Volume'>"
      ]
     },
     "execution_count": 23,
     "metadata": {},
     "output_type": "execute_result"
    },
    {
     "data": {
      "image/png": "[encoded data removed]",
      "text/plain": [
       "<Figure size 640x480 with 1 Axes>"
      ]
     },
     "metadata": {},
     "output_type": "display_data"
    }
   ],
   "source": [
    "df.groupby('section')['Sales Volume'].sum().plot(\n",
    "    kind='pie',\n",
    "    title='How much sales volume is generated by each section',\n",
    "    autopct = '%1.1f%%'\n",
    ")"
   ]
  },
  {
   "cell_type": "markdown",
   "id": "2d877ad7",
   "metadata": {
    "papermill": {
     "duration": 0.012387,
     "end_time": "2025-11-01T15:56:14.163696",
     "exception": false,
     "start_time": "2025-11-01T15:56:14.151309",
     "status": "completed"
    },
    "tags": []
   },
   "source": [
    "Which Product Category (e.g., jackets) sells the most units?"
   ]
  },
  {
   "cell_type": "code",
   "execution_count": 24,
   "id": "01aa2e0a",
   "metadata": {
    "execution": {
     "iopub.execute_input": "2025-11-01T15:56:14.191428Z",
     "iopub.status.busy": "2025-11-01T15:56:14.191106Z",
     "iopub.status.idle": "2025-11-01T15:56:14.354741Z",
     "shell.execute_reply": "2025-11-01T15:56:14.353568Z"
    },
    "papermill": {
     "duration": 0.179751,
     "end_time": "2025-11-01T15:56:14.356241",
     "exception": false,
     "start_time": "2025-11-01T15:56:14.176490",
     "status": "completed"
    },
    "tags": []
   },
   "outputs": [
    {
     "data": {
      "image/png": "[encoded data removed]",
      "text/plain": [
       "<Figure size 1000x600 with 1 Axes>"
      ]
     },
     "metadata": {},
     "output_type": "display_data"
    }
   ],
   "source": [
    "df.groupby('terms')['Sales Volume'].sum()\\\n",
    "  .sort_values().plot(kind='barh', figsize=(10,6), color='skyblue', edgecolor=\"black\")\n",
    "plt.title(\"Total Sales Volume by Terms\", fontsize=16)\n",
    "plt.show()\n"
   ]
  },
  {
   "cell_type": "markdown",
   "id": "5b109b2e",
   "metadata": {
    "papermill": {
     "duration": 0.012865,
     "end_time": "2025-11-01T15:56:14.382855",
     "exception": false,
     "start_time": "2025-11-01T15:56:14.369990",
     "status": "completed"
    },
    "tags": []
   },
   "source": [
    "Do promoted items (Promotion = Yes) have higher sales volume than non-promoted?"
   ]
  },
  {
   "cell_type": "code",
   "execution_count": 25,
   "id": "402ade51",
   "metadata": {
    "execution": {
     "iopub.execute_input": "2025-11-01T15:56:14.410740Z",
     "iopub.status.busy": "2025-11-01T15:56:14.410204Z",
     "iopub.status.idle": "2025-11-01T15:56:14.509284Z",
     "shell.execute_reply": "2025-11-01T15:56:14.508416Z"
    },
    "papermill": {
     "duration": 0.114471,
     "end_time": "2025-11-01T15:56:14.510687",
     "exception": false,
     "start_time": "2025-11-01T15:56:14.396216",
     "status": "completed"
    },
    "tags": []
   },
   "outputs": [
    {
     "data": {
      "text/plain": [
       "<Axes: title={'center': 'Are items on promotion selling better?'}, ylabel='Sales Volume'>"
      ]
     },
     "execution_count": 25,
     "metadata": {},
     "output_type": "execute_result"
    },
    {
     "data": {
      "image/png": "[encoded data removed]",
      "text/plain": [
       "<Figure size 640x480 with 1 Axes>"
      ]
     },
     "metadata": {},
     "output_type": "display_data"
    }
   ],
   "source": [
    "df.groupby('Promotion')['Sales Volume'].sum().plot(\n",
    "    kind='pie',\n",
    "    title='Are items on promotion selling better?',\n",
    "    autopct = '%1.1f%%'\n",
    ")"
   ]
  },
  {
   "cell_type": "markdown",
   "id": "ae61c688",
   "metadata": {
    "papermill": {
     "duration": 0.013651,
     "end_time": "2025-11-01T15:56:14.538223",
     "exception": false,
     "start_time": "2025-11-01T15:56:14.524572",
     "status": "completed"
    },
    "tags": []
   },
   "source": [
    "Compare sales volume by product position: Aisle vs. End-cap vs. Wall"
   ]
  },
  {
   "cell_type": "code",
   "execution_count": 26,
   "id": "0146de26",
   "metadata": {
    "execution": {
     "iopub.execute_input": "2025-11-01T15:56:14.567631Z",
     "iopub.status.busy": "2025-11-01T15:56:14.567292Z",
     "iopub.status.idle": "2025-11-01T15:56:14.713448Z",
     "shell.execute_reply": "2025-11-01T15:56:14.712450Z"
    },
    "papermill": {
     "duration": 0.162929,
     "end_time": "2025-11-01T15:56:14.715023",
     "exception": false,
     "start_time": "2025-11-01T15:56:14.552094",
     "status": "completed"
    },
    "tags": []
   },
   "outputs": [
    {
     "data": {
      "text/plain": [
       "<Axes: xlabel='Product Position'>"
      ]
     },
     "execution_count": 26,
     "metadata": {},
     "output_type": "execute_result"
    },
    {
     "data": {
      "image/png": "[encoded data removed]",
      "text/plain": [
       "<Figure size 600x600 with 1 Axes>"
      ]
     },
     "metadata": {},
     "output_type": "display_data"
    }
   ],
   "source": [
    "df.groupby('Product Position')['total revenue'].sum().plot.bar(figsize=(6,6),color='skyblue', edgecolor=\"black\")"
   ]
  },
  {
   "cell_type": "markdown",
   "id": "0f9b43b3",
   "metadata": {
    "papermill": {
     "duration": 0.013949,
     "end_time": "2025-11-01T15:56:14.743777",
     "exception": false,
     "start_time": "2025-11-01T15:56:14.729828",
     "status": "completed"
    },
    "tags": []
   },
   "source": [
    "Which season (Autumn/Winter/Spring/etc.) has the highest average price?"
   ]
  },
  {
   "cell_type": "code",
   "execution_count": 27,
   "id": "8b9884b9",
   "metadata": {
    "execution": {
     "iopub.execute_input": "2025-11-01T15:56:14.774553Z",
     "iopub.status.busy": "2025-11-01T15:56:14.773444Z",
     "iopub.status.idle": "2025-11-01T15:56:14.788856Z",
     "shell.execute_reply": "2025-11-01T15:56:14.787971Z"
    },
    "papermill": {
     "duration": 0.032356,
     "end_time": "2025-11-01T15:56:14.790297",
     "exception": false,
     "start_time": "2025-11-01T15:56:14.757941",
     "status": "completed"
    },
    "tags": []
   },
   "outputs": [
    {
     "data": {
      "text/html": [
       "<div>\n",
       "<style scoped>\n",
       "    .dataframe tbody tr th:only-of-type {\n",
       "        vertical-align: middle;\n",
       "    }\n",
       "\n",
       "    .dataframe tbody tr th {\n",
       "        vertical-align: top;\n",
       "    }\n",
       "\n",
       "    .dataframe thead th {\n",
       "        text-align: right;\n",
       "    }\n",
       "</style>\n",
       "<table border=\"1\" class=\"dataframe\">\n",
       "  <thead>\n",
       "    <tr style=\"text-align: right;\">\n",
       "      <th></th>\n",
       "      <th>price</th>\n",
       "    </tr>\n",
       "    <tr>\n",
       "      <th>season</th>\n",
       "      <th></th>\n",
       "    </tr>\n",
       "  </thead>\n",
       "  <tbody>\n",
       "    <tr>\n",
       "      <th>Summer</th>\n",
       "      <td>44.081700</td>\n",
       "    </tr>\n",
       "    <tr>\n",
       "      <th>Winter</th>\n",
       "      <td>43.934267</td>\n",
       "    </tr>\n",
       "    <tr>\n",
       "      <th>Spring</th>\n",
       "      <td>40.735105</td>\n",
       "    </tr>\n",
       "    <tr>\n",
       "      <th>Autumn</th>\n",
       "      <td>40.526800</td>\n",
       "    </tr>\n",
       "  </tbody>\n",
       "</table>\n",
       "</div>"
      ],
      "text/plain": [
       "            price\n",
       "season           \n",
       "Summer  44.081700\n",
       "Winter  43.934267\n",
       "Spring  40.735105\n",
       "Autumn  40.526800"
      ]
     },
     "execution_count": 27,
     "metadata": {},
     "output_type": "execute_result"
    }
   ],
   "source": [
    "df.groupby('season')[['price']].mean().sort_values('price',ascending=False)"
   ]
  },
  {
   "cell_type": "code",
   "execution_count": 28,
   "id": "b9b345ec",
   "metadata": {
    "execution": {
     "iopub.execute_input": "2025-11-01T15:56:14.821052Z",
     "iopub.status.busy": "2025-11-01T15:56:14.820771Z",
     "iopub.status.idle": "2025-11-01T15:56:14.837094Z",
     "shell.execute_reply": "2025-11-01T15:56:14.836166Z"
    },
    "papermill": {
     "duration": 0.03338,
     "end_time": "2025-11-01T15:56:14.838524",
     "exception": false,
     "start_time": "2025-11-01T15:56:14.805144",
     "status": "completed"
    },
    "tags": []
   },
   "outputs": [
    {
     "data": {
      "text/html": [
       "<div>\n",
       "<style scoped>\n",
       "    .dataframe tbody tr th:only-of-type {\n",
       "        vertical-align: middle;\n",
       "    }\n",
       "\n",
       "    .dataframe tbody tr th {\n",
       "        vertical-align: top;\n",
       "    }\n",
       "\n",
       "    .dataframe thead th {\n",
       "        text-align: right;\n",
       "    }\n",
       "</style>\n",
       "<table border=\"1\" class=\"dataframe\">\n",
       "  <thead>\n",
       "    <tr style=\"text-align: right;\">\n",
       "      <th></th>\n",
       "      <th>Product ID</th>\n",
       "      <th>Product Position</th>\n",
       "      <th>Promotion</th>\n",
       "      <th>Seasonal</th>\n",
       "      <th>Sales Volume</th>\n",
       "      <th>name</th>\n",
       "      <th>price</th>\n",
       "      <th>currency</th>\n",
       "      <th>terms</th>\n",
       "      <th>section</th>\n",
       "      <th>season</th>\n",
       "      <th>material</th>\n",
       "      <th>origin</th>\n",
       "      <th>total revenue</th>\n",
       "      <th>median price</th>\n",
       "      <th>premium item</th>\n",
       "      <th>cost estimate</th>\n",
       "    </tr>\n",
       "  </thead>\n",
       "  <tbody>\n",
       "    <tr>\n",
       "      <th>0</th>\n",
       "      <td>185102</td>\n",
       "      <td>Aisle</td>\n",
       "      <td>Yes</td>\n",
       "      <td>Yes</td>\n",
       "      <td>1243</td>\n",
       "      <td>BASIC PUFFER JACKET</td>\n",
       "      <td>78.99</td>\n",
       "      <td>USD</td>\n",
       "      <td>jackets</td>\n",
       "      <td>MAN</td>\n",
       "      <td>Winter</td>\n",
       "      <td>Polyester</td>\n",
       "      <td>Brazil</td>\n",
       "      <td>98184.6</td>\n",
       "      <td>35.95</td>\n",
       "      <td>True</td>\n",
       "      <td>31.6</td>\n",
       "    </tr>\n",
       "    <tr>\n",
       "      <th>1</th>\n",
       "      <td>188771</td>\n",
       "      <td>Aisle</td>\n",
       "      <td>Yes</td>\n",
       "      <td>No</td>\n",
       "      <td>1429</td>\n",
       "      <td>TUXEDO JACKET</td>\n",
       "      <td>14.99</td>\n",
       "      <td>USD</td>\n",
       "      <td>jackets</td>\n",
       "      <td>MAN</td>\n",
       "      <td>Autumn</td>\n",
       "      <td>Cotton</td>\n",
       "      <td>Turkey</td>\n",
       "      <td>21420.7</td>\n",
       "      <td>35.95</td>\n",
       "      <td>False</td>\n",
       "      <td>6.0</td>\n",
       "    </tr>\n",
       "    <tr>\n",
       "      <th>2</th>\n",
       "      <td>180176</td>\n",
       "      <td>End-cap</td>\n",
       "      <td>Yes</td>\n",
       "      <td>Yes</td>\n",
       "      <td>1168</td>\n",
       "      <td>SLIM FIT SUIT JACKET</td>\n",
       "      <td>71.95</td>\n",
       "      <td>USD</td>\n",
       "      <td>jackets</td>\n",
       "      <td>WOMAN</td>\n",
       "      <td>Autumn</td>\n",
       "      <td>Polyester</td>\n",
       "      <td>Morocco</td>\n",
       "      <td>84037.6</td>\n",
       "      <td>35.95</td>\n",
       "      <td>True</td>\n",
       "      <td>28.8</td>\n",
       "    </tr>\n",
       "    <tr>\n",
       "      <th>3</th>\n",
       "      <td>112917</td>\n",
       "      <td>Aisle</td>\n",
       "      <td>Yes</td>\n",
       "      <td>No</td>\n",
       "      <td>1348</td>\n",
       "      <td>STRETCH SUIT JACKET</td>\n",
       "      <td>30.99</td>\n",
       "      <td>USD</td>\n",
       "      <td>jackets</td>\n",
       "      <td>MAN</td>\n",
       "      <td>Spring</td>\n",
       "      <td>Polyester</td>\n",
       "      <td>China</td>\n",
       "      <td>41774.5</td>\n",
       "      <td>35.95</td>\n",
       "      <td>False</td>\n",
       "      <td>12.4</td>\n",
       "    </tr>\n",
       "    <tr>\n",
       "      <th>4</th>\n",
       "      <td>192936</td>\n",
       "      <td>End-cap</td>\n",
       "      <td>Yes</td>\n",
       "      <td>Yes</td>\n",
       "      <td>1602</td>\n",
       "      <td>DOUBLE FACED JACKET</td>\n",
       "      <td>22.99</td>\n",
       "      <td>USD</td>\n",
       "      <td>jackets</td>\n",
       "      <td>WOMAN</td>\n",
       "      <td>Winter</td>\n",
       "      <td>Wool Blend</td>\n",
       "      <td>China</td>\n",
       "      <td>36830.0</td>\n",
       "      <td>35.95</td>\n",
       "      <td>False</td>\n",
       "      <td>9.2</td>\n",
       "    </tr>\n",
       "  </tbody>\n",
       "</table>\n",
       "</div>"
      ],
      "text/plain": [
       "   Product ID Product Position Promotion Seasonal  Sales Volume  \\\n",
       "0      185102            Aisle       Yes      Yes          1243   \n",
       "1      188771            Aisle       Yes       No          1429   \n",
       "2      180176          End-cap       Yes      Yes          1168   \n",
       "3      112917            Aisle       Yes       No          1348   \n",
       "4      192936          End-cap       Yes      Yes          1602   \n",
       "\n",
       "                   name  price currency    terms section  season    material  \\\n",
       "0   BASIC PUFFER JACKET  78.99      USD  jackets     MAN  Winter   Polyester   \n",
       "1         TUXEDO JACKET  14.99      USD  jackets     MAN  Autumn      Cotton   \n",
       "2  SLIM FIT SUIT JACKET  71.95      USD  jackets   WOMAN  Autumn   Polyester   \n",
       "3   STRETCH SUIT JACKET  30.99      USD  jackets     MAN  Spring   Polyester   \n",
       "4   DOUBLE FACED JACKET  22.99      USD  jackets   WOMAN  Winter  Wool Blend   \n",
       "\n",
       "    origin  total revenue  median price  premium item  cost estimate  \n",
       "0   Brazil        98184.6         35.95          True           31.6  \n",
       "1   Turkey        21420.7         35.95         False            6.0  \n",
       "2  Morocco        84037.6         35.95          True           28.8  \n",
       "3    China        41774.5         35.95         False           12.4  \n",
       "4    China        36830.0         35.95         False            9.2  "
      ]
     },
     "execution_count": 28,
     "metadata": {},
     "output_type": "execute_result"
    }
   ],
   "source": [
    "df.head()"
   ]
  },
  {
   "cell_type": "markdown",
   "id": "a2d00e48",
   "metadata": {
    "papermill": {
     "duration": 0.014522,
     "end_time": "2025-11-01T15:56:14.867932",
     "exception": false,
     "start_time": "2025-11-01T15:56:14.853410",
     "status": "completed"
    },
    "tags": []
   },
   "source": [
    "Does material affect price? (top 5 most expensive materials)"
   ]
  },
  {
   "cell_type": "code",
   "execution_count": 29,
   "id": "96a5f1d4",
   "metadata": {
    "execution": {
     "iopub.execute_input": "2025-11-01T15:56:14.898924Z",
     "iopub.status.busy": "2025-11-01T15:56:14.898636Z",
     "iopub.status.idle": "2025-11-01T15:56:15.091103Z",
     "shell.execute_reply": "2025-11-01T15:56:15.090106Z"
    },
    "papermill": {
     "duration": 0.209637,
     "end_time": "2025-11-01T15:56:15.092750",
     "exception": false,
     "start_time": "2025-11-01T15:56:14.883113",
     "status": "completed"
    },
    "tags": []
   },
   "outputs": [
    {
     "data": {
      "text/plain": [
       "<Axes: ylabel='material'>"
      ]
     },
     "execution_count": 29,
     "metadata": {},
     "output_type": "execute_result"
    },
    {
     "data": {
      "image/png": "[encoded data removed]",
      "text/plain": [
       "<Figure size 640x480 with 1 Axes>"
      ]
     },
     "metadata": {},
     "output_type": "display_data"
    }
   ],
   "source": [
    "df.groupby('material')['cost estimate'].mean().sort_values().plot.barh(color='skyblue', edgecolor=\"black\")"
   ]
  },
  {
   "cell_type": "markdown",
   "id": "815f1533",
   "metadata": {
    "papermill": {
     "duration": 0.016075,
     "end_time": "2025-11-01T15:56:15.124578",
     "exception": false,
     "start_time": "2025-11-01T15:56:15.108503",
     "status": "completed"
    },
    "tags": []
   },
   "source": [
    "Which country of origin (origin) manufactures the best-selling items?"
   ]
  },
  {
   "cell_type": "code",
   "execution_count": 30,
   "id": "120a3351",
   "metadata": {
    "execution": {
     "iopub.execute_input": "2025-11-01T15:56:15.159667Z",
     "iopub.status.busy": "2025-11-01T15:56:15.158692Z",
     "iopub.status.idle": "2025-11-01T15:56:15.344029Z",
     "shell.execute_reply": "2025-11-01T15:56:15.343250Z"
    },
    "papermill": {
     "duration": 0.204766,
     "end_time": "2025-11-01T15:56:15.345478",
     "exception": false,
     "start_time": "2025-11-01T15:56:15.140712",
     "status": "completed"
    },
    "tags": []
   },
   "outputs": [
    {
     "data": {
      "text/plain": [
       "<Axes: ylabel='origin'>"
      ]
     },
     "execution_count": 30,
     "metadata": {},
     "output_type": "execute_result"
    },
    {
     "data": {
      "image/png": "[encoded data removed]",
      "text/plain": [
       "<Figure size 640x480 with 1 Axes>"
      ]
     },
     "metadata": {},
     "output_type": "display_data"
    }
   ],
   "source": [
    "df.groupby('origin')['Sales Volume'].sum().sort_values().plot.barh(color='skyblue', edgecolor=\"black\")"
   ]
  },
  {
   "cell_type": "markdown",
   "id": "308e0263",
   "metadata": {
    "papermill": {
     "duration": 0.016767,
     "end_time": "2025-11-01T15:56:15.380352",
     "exception": false,
     "start_time": "2025-11-01T15:56:15.363585",
     "status": "completed"
    },
    "tags": []
   },
   "source": [
    "Pie chart: Revenue distribution by product category."
   ]
  },
  {
   "cell_type": "code",
   "execution_count": 31,
   "id": "03880341",
   "metadata": {
    "execution": {
     "iopub.execute_input": "2025-11-01T15:56:15.415175Z",
     "iopub.status.busy": "2025-11-01T15:56:15.414357Z",
     "iopub.status.idle": "2025-11-01T15:56:15.538187Z",
     "shell.execute_reply": "2025-11-01T15:56:15.537377Z"
    },
    "papermill": {
     "duration": 0.142731,
     "end_time": "2025-11-01T15:56:15.539538",
     "exception": false,
     "start_time": "2025-11-01T15:56:15.396807",
     "status": "completed"
    },
    "tags": []
   },
   "outputs": [
    {
     "data": {
      "text/plain": [
       "<Axes: title={'center': 'Revenue distribution by product category'}, ylabel='total revenue'>"
      ]
     },
     "execution_count": 31,
     "metadata": {},
     "output_type": "execute_result"
    },
    {
     "data": {
      "image/png": "[encoded data removed]",
      "text/plain": [
       "<Figure size 640x480 with 1 Axes>"
      ]
     },
     "metadata": {},
     "output_type": "display_data"
    }
   ],
   "source": [
    "df.groupby('terms')['total revenue'].sum().plot(\n",
    "    kind='pie',\n",
    "    autopct= '%1.1f%%',\n",
    "    title='Revenue distribution by product category'\n",
    ")"
   ]
  },
  {
   "cell_type": "markdown",
   "id": "0d6d68a0",
   "metadata": {
    "papermill": {
     "duration": 0.01744,
     "end_time": "2025-11-01T15:56:15.575821",
     "exception": false,
     "start_time": "2025-11-01T15:56:15.558381",
     "status": "completed"
    },
    "tags": []
   },
   "source": [
    "Boxplot: Price distribution by product position."
   ]
  },
  {
   "cell_type": "code",
   "execution_count": 32,
   "id": "e0876017",
   "metadata": {
    "execution": {
     "iopub.execute_input": "2025-11-01T15:56:15.612763Z",
     "iopub.status.busy": "2025-11-01T15:56:15.612443Z",
     "iopub.status.idle": "2025-11-01T15:56:15.833469Z",
     "shell.execute_reply": "2025-11-01T15:56:15.832555Z"
    },
    "papermill": {
     "duration": 0.241038,
     "end_time": "2025-11-01T15:56:15.835023",
     "exception": false,
     "start_time": "2025-11-01T15:56:15.593985",
     "status": "completed"
    },
    "tags": []
   },
   "outputs": [
    {
     "data": {
      "image/png": "[encoded data removed]",
      "text/plain": [
       "<Figure size 1200x600 with 1 Axes>"
      ]
     },
     "metadata": {},
     "output_type": "display_data"
    }
   ],
   "source": [
    "plt.figure(figsize=(12, 6))\n",
    "sns.set_theme(style=\"whitegrid\")  # cleaner background\n",
    "\n",
    "order = df.groupby('Product Position')['price'].median().sort_values().index\n",
    "\n",
    "sns.boxplot(\n",
    "    data=df,\n",
    "    x='Product Position',\n",
    "    y='price',\n",
    "    order=order,\n",
    "    showmeans=True,\n",
    "    meanprops={\"marker\":\"o\",\n",
    "               \"markerfacecolor\":\"black\",\n",
    "               \"markeredgecolor\":\"black\",\n",
    "               \"markersize\":\"6\"},\n",
    "    palette=\"Set2\"\n",
    ")\n",
    "\n",
    "plt.title('Price Distribution by Product Position', fontsize=16, fontweight='bold')\n",
    "plt.xlabel('Product Position', fontsize=12)\n",
    "plt.ylabel('Price ($)', fontsize=12)\n",
    "plt.xticks(rotation=15)\n",
    "plt.show()"
   ]
  },
  {
   "cell_type": "markdown",
   "id": "c3efca70",
   "metadata": {
    "papermill": {
     "duration": 0.017987,
     "end_time": "2025-11-01T15:56:15.872302",
     "exception": false,
     "start_time": "2025-11-01T15:56:15.854315",
     "status": "completed"
    },
    "tags": []
   },
   "source": [
    "Heatmap: Season vs. promotion vs. sales volume."
   ]
  },
  {
   "cell_type": "code",
   "execution_count": 33,
   "id": "aee963be",
   "metadata": {
    "execution": {
     "iopub.execute_input": "2025-11-01T15:56:15.911295Z",
     "iopub.status.busy": "2025-11-01T15:56:15.910534Z",
     "iopub.status.idle": "2025-11-01T15:56:15.932319Z",
     "shell.execute_reply": "2025-11-01T15:56:15.931498Z"
    },
    "papermill": {
     "duration": 0.043328,
     "end_time": "2025-11-01T15:56:15.934033",
     "exception": false,
     "start_time": "2025-11-01T15:56:15.890705",
     "status": "completed"
    },
    "tags": []
   },
   "outputs": [],
   "source": [
    "pivot = df.pivot_table(\n",
    "    values='Sales Volume',\n",
    "    index='season',            # rows = season (Winter, Spring, etc.)\n",
    "    columns='Promotion',       # columns = Yes / No\n",
    "    aggfunc='sum',             # sum of sales volume\n",
    "    fill_value=0               # replace NaN with 0\n",
    ")"
   ]
  },
  {
   "cell_type": "code",
   "execution_count": 34,
   "id": "b7fc18a4",
   "metadata": {
    "execution": {
     "iopub.execute_input": "2025-11-01T15:56:15.974468Z",
     "iopub.status.busy": "2025-11-01T15:56:15.974119Z",
     "iopub.status.idle": "2025-11-01T15:56:16.204772Z",
     "shell.execute_reply": "2025-11-01T15:56:16.203907Z"
    },
    "papermill": {
     "duration": 0.252526,
     "end_time": "2025-11-01T15:56:16.206327",
     "exception": false,
     "start_time": "2025-11-01T15:56:15.953801",
     "status": "completed"
    },
    "tags": []
   },
   "outputs": [
    {
     "data": {
      "image/png": "[encoded data removed]",
      "text/plain": [
       "<Figure size 800x500 with 2 Axes>"
      ]
     },
     "metadata": {},
     "output_type": "display_data"
    }
   ],
   "source": [
    "plt.figure(figsize=(8, 5))\n",
    "sns.set_theme(style=\"white\")  # cleaner theme\n",
    "\n",
    "sns.heatmap(\n",
    "    pivot,\n",
    "    annot=True,        # show numbers in cells\n",
    "    cmap=\"YlGnBu\",     # nice color palette (yellow → green → blue)\n",
    "    fmt=\".0f\",         # format numbers as integers\n",
    "    linewidths=0.3,    # thin borders\n",
    ")\n",
    "\n",
    "plt.title(\"Heatmap — Sales Volume by Season and Promotion\")\n",
    "plt.xlabel(\"Promotion\")\n",
    "plt.ylabel(\"Season\")\n",
    "plt.show()"
   ]
  },
  {
   "cell_type": "markdown",
   "id": "d5926fb1",
   "metadata": {
    "papermill": {
     "duration": 0.019249,
     "end_time": "2025-11-01T15:56:16.245720",
     "exception": false,
     "start_time": "2025-11-01T15:56:16.226471",
     "status": "completed"
    },
    "tags": []
   },
   "source": [
    "Scatter plot: Price vs. sales volume (is price correlated with demand?)."
   ]
  },
  {
   "cell_type": "code",
   "execution_count": 35,
   "id": "2b27a62a",
   "metadata": {
    "execution": {
     "iopub.execute_input": "2025-11-01T15:56:16.288329Z",
     "iopub.status.busy": "2025-11-01T15:56:16.287972Z",
     "iopub.status.idle": "2025-11-01T15:56:16.613235Z",
     "shell.execute_reply": "2025-11-01T15:56:16.612285Z"
    },
    "papermill": {
     "duration": 0.35159,
     "end_time": "2025-11-01T15:56:16.617683",
     "exception": false,
     "start_time": "2025-11-01T15:56:16.266093",
     "status": "completed"
    },
    "tags": []
   },
   "outputs": [
    {
     "data": {
      "image/png": "[encoded data removed]",
      "text/plain": [
       "<Figure size 800x500 with 1 Axes>"
      ]
     },
     "metadata": {},
     "output_type": "display_data"
    }
   ],
   "source": [
    "plt.figure(figsize=(8, 5))\n",
    "sns.scatterplot(data=df, x='price', y='Sales Volume')\n",
    "\n",
    "plt.title(\"Price vs. Sales Volume\")\n",
    "plt.xlabel(\"Price ($)\")\n",
    "plt.ylabel(\"Sales Volume\")\n",
    "plt.show()"
   ]
  },
  {
   "cell_type": "markdown",
   "id": "8f213d70",
   "metadata": {
    "papermill": {
     "duration": 0.024755,
     "end_time": "2025-11-01T15:56:16.666958",
     "exception": false,
     "start_time": "2025-11-01T15:56:16.642203",
     "status": "completed"
    },
    "tags": []
   },
   "source": [
    "Identify top 10 best-selling products (by Sales Volume)."
   ]
  },
  {
   "cell_type": "code",
   "execution_count": 36,
   "id": "9b3e4533",
   "metadata": {
    "execution": {
     "iopub.execute_input": "2025-11-01T15:56:16.715610Z",
     "iopub.status.busy": "2025-11-01T15:56:16.715263Z",
     "iopub.status.idle": "2025-11-01T15:56:16.745405Z",
     "shell.execute_reply": "2025-11-01T15:56:16.744065Z"
    },
    "papermill": {
     "duration": 0.056247,
     "end_time": "2025-11-01T15:56:16.747019",
     "exception": false,
     "start_time": "2025-11-01T15:56:16.690772",
     "status": "completed"
    },
    "tags": []
   },
   "outputs": [
    {
     "data": {
      "text/plain": [
       "name\n",
       "PLAID OVERSHIRT                      9119\n",
       "FAUX SUEDE BOMBER JACKET             6237\n",
       "SUIT JACKET IN 100% LINEN            6198\n",
       "CONTRASTING PATCHES BOMBER JACKET    6088\n",
       "POCKET OVERSHIRT                     5621\n",
       "PATCH BOMBER JACKET                  5567\n",
       "FAUX LEATHER PUFFER JACKET           5283\n",
       "FAUX LEATHER BOMBER JACKET           5262\n",
       "HOODED TECHNICAL JACKET              5146\n",
       "FAUX SUEDE JACKET                    5144\n",
       "Name: Sales Volume, dtype: int64"
      ]
     },
     "execution_count": 36,
     "metadata": {},
     "output_type": "execute_result"
    }
   ],
   "source": [
    "df.groupby('name')['Sales Volume'].sum().sort_values(ascending=False).head(10)"
   ]
  },
  {
   "cell_type": "markdown",
   "id": "79ce99ee",
   "metadata": {
    "papermill": {
     "duration": 0.024732,
     "end_time": "2025-11-01T15:56:16.797285",
     "exception": false,
     "start_time": "2025-11-01T15:56:16.772553",
     "status": "completed"
    },
    "tags": []
   },
   "source": [
    "Identify bottom 10 worst performers."
   ]
  },
  {
   "cell_type": "code",
   "execution_count": 37,
   "id": "0d8ce09b",
   "metadata": {
    "execution": {
     "iopub.execute_input": "2025-11-01T15:56:16.847395Z",
     "iopub.status.busy": "2025-11-01T15:56:16.846544Z",
     "iopub.status.idle": "2025-11-01T15:56:16.875899Z",
     "shell.execute_reply": "2025-11-01T15:56:16.875212Z"
    },
    "papermill": {
     "duration": 0.055567,
     "end_time": "2025-11-01T15:56:16.877273",
     "exception": false,
     "start_time": "2025-11-01T15:56:16.821706",
     "status": "completed"
    },
    "tags": []
   },
   "outputs": [
    {
     "data": {
      "text/plain": [
       "name\n",
       "RIBBED CHUNKY SOLE HIGH TOP SNEAKERS WHITE                            566\n",
       "DOUBLE-BREASTED TEXTURED WEAVE OVERSHIRT                              563\n",
       "KNIT TEXTURED POCKET JACKET SKY BLUE                                  562\n",
       "DOUBLE-BREASTED SUEDE HIGH-TOPS BURGUNDY                              559\n",
       "STRETCH SOFT JEWEL SWEATER BLACK                                      547\n",
       "PLEATED TEXTURED WEAVE OVERSHIRT CHARCOAL                             539\n",
       "BELTED ACID WASH DENIM JACKET                                         534\n",
       "STRETCH JACQUARD DENIM JACKET STONE                                   533\n",
       "SLIM TEXTURED JACKET WHITE                                            528\n",
       "DOUBLE-BREASTED FAUX LEATHER OVERSIZED JACKET LIMITED EDITION GREY    518\n",
       "Name: Sales Volume, dtype: int64"
      ]
     },
     "execution_count": 37,
     "metadata": {},
     "output_type": "execute_result"
    }
   ],
   "source": [
    "df.groupby('name')['Sales Volume'].sum().sort_values(ascending=False).tail(10)"
   ]
  },
  {
   "cell_type": "markdown",
   "id": "20e9aaaa",
   "metadata": {
    "papermill": {
     "duration": 0.024583,
     "end_time": "2025-11-01T15:56:16.926842",
     "exception": false,
     "start_time": "2025-11-01T15:56:16.902259",
     "status": "completed"
    },
    "tags": []
   },
   "source": [
    "Which season has the highest average revenue?"
   ]
  },
  {
   "cell_type": "code",
   "execution_count": 38,
   "id": "326a4ff6",
   "metadata": {
    "execution": {
     "iopub.execute_input": "2025-11-01T15:56:16.976484Z",
     "iopub.status.busy": "2025-11-01T15:56:16.976175Z",
     "iopub.status.idle": "2025-11-01T15:56:16.992539Z",
     "shell.execute_reply": "2025-11-01T15:56:16.991691Z"
    },
    "papermill": {
     "duration": 0.042802,
     "end_time": "2025-11-01T15:56:16.993986",
     "exception": false,
     "start_time": "2025-11-01T15:56:16.951184",
     "status": "completed"
    },
    "tags": []
   },
   "outputs": [
    {
     "data": {
      "text/html": [
       "<div>\n",
       "<style scoped>\n",
       "    .dataframe tbody tr th:only-of-type {\n",
       "        vertical-align: middle;\n",
       "    }\n",
       "\n",
       "    .dataframe tbody tr th {\n",
       "        vertical-align: top;\n",
       "    }\n",
       "\n",
       "    .dataframe thead th {\n",
       "        text-align: right;\n",
       "    }\n",
       "</style>\n",
       "<table border=\"1\" class=\"dataframe\">\n",
       "  <thead>\n",
       "    <tr style=\"text-align: right;\">\n",
       "      <th></th>\n",
       "      <th>Product ID</th>\n",
       "      <th>Product Position</th>\n",
       "      <th>Promotion</th>\n",
       "      <th>Seasonal</th>\n",
       "      <th>Sales Volume</th>\n",
       "      <th>name</th>\n",
       "      <th>price</th>\n",
       "      <th>currency</th>\n",
       "      <th>terms</th>\n",
       "      <th>section</th>\n",
       "      <th>season</th>\n",
       "      <th>material</th>\n",
       "      <th>origin</th>\n",
       "      <th>total revenue</th>\n",
       "      <th>median price</th>\n",
       "      <th>premium item</th>\n",
       "      <th>cost estimate</th>\n",
       "    </tr>\n",
       "  </thead>\n",
       "  <tbody>\n",
       "    <tr>\n",
       "      <th>0</th>\n",
       "      <td>185102</td>\n",
       "      <td>Aisle</td>\n",
       "      <td>Yes</td>\n",
       "      <td>Yes</td>\n",
       "      <td>1243</td>\n",
       "      <td>BASIC PUFFER JACKET</td>\n",
       "      <td>78.99</td>\n",
       "      <td>USD</td>\n",
       "      <td>jackets</td>\n",
       "      <td>MAN</td>\n",
       "      <td>Winter</td>\n",
       "      <td>Polyester</td>\n",
       "      <td>Brazil</td>\n",
       "      <td>98184.6</td>\n",
       "      <td>35.95</td>\n",
       "      <td>True</td>\n",
       "      <td>31.6</td>\n",
       "    </tr>\n",
       "    <tr>\n",
       "      <th>1</th>\n",
       "      <td>188771</td>\n",
       "      <td>Aisle</td>\n",
       "      <td>Yes</td>\n",
       "      <td>No</td>\n",
       "      <td>1429</td>\n",
       "      <td>TUXEDO JACKET</td>\n",
       "      <td>14.99</td>\n",
       "      <td>USD</td>\n",
       "      <td>jackets</td>\n",
       "      <td>MAN</td>\n",
       "      <td>Autumn</td>\n",
       "      <td>Cotton</td>\n",
       "      <td>Turkey</td>\n",
       "      <td>21420.7</td>\n",
       "      <td>35.95</td>\n",
       "      <td>False</td>\n",
       "      <td>6.0</td>\n",
       "    </tr>\n",
       "    <tr>\n",
       "      <th>2</th>\n",
       "      <td>180176</td>\n",
       "      <td>End-cap</td>\n",
       "      <td>Yes</td>\n",
       "      <td>Yes</td>\n",
       "      <td>1168</td>\n",
       "      <td>SLIM FIT SUIT JACKET</td>\n",
       "      <td>71.95</td>\n",
       "      <td>USD</td>\n",
       "      <td>jackets</td>\n",
       "      <td>WOMAN</td>\n",
       "      <td>Autumn</td>\n",
       "      <td>Polyester</td>\n",
       "      <td>Morocco</td>\n",
       "      <td>84037.6</td>\n",
       "      <td>35.95</td>\n",
       "      <td>True</td>\n",
       "      <td>28.8</td>\n",
       "    </tr>\n",
       "    <tr>\n",
       "      <th>3</th>\n",
       "      <td>112917</td>\n",
       "      <td>Aisle</td>\n",
       "      <td>Yes</td>\n",
       "      <td>No</td>\n",
       "      <td>1348</td>\n",
       "      <td>STRETCH SUIT JACKET</td>\n",
       "      <td>30.99</td>\n",
       "      <td>USD</td>\n",
       "      <td>jackets</td>\n",
       "      <td>MAN</td>\n",
       "      <td>Spring</td>\n",
       "      <td>Polyester</td>\n",
       "      <td>China</td>\n",
       "      <td>41774.5</td>\n",
       "      <td>35.95</td>\n",
       "      <td>False</td>\n",
       "      <td>12.4</td>\n",
       "    </tr>\n",
       "    <tr>\n",
       "      <th>4</th>\n",
       "      <td>192936</td>\n",
       "      <td>End-cap</td>\n",
       "      <td>Yes</td>\n",
       "      <td>Yes</td>\n",
       "      <td>1602</td>\n",
       "      <td>DOUBLE FACED JACKET</td>\n",
       "      <td>22.99</td>\n",
       "      <td>USD</td>\n",
       "      <td>jackets</td>\n",
       "      <td>WOMAN</td>\n",
       "      <td>Winter</td>\n",
       "      <td>Wool Blend</td>\n",
       "      <td>China</td>\n",
       "      <td>36830.0</td>\n",
       "      <td>35.95</td>\n",
       "      <td>False</td>\n",
       "      <td>9.2</td>\n",
       "    </tr>\n",
       "  </tbody>\n",
       "</table>\n",
       "</div>"
      ],
      "text/plain": [
       "   Product ID Product Position Promotion Seasonal  Sales Volume  \\\n",
       "0      185102            Aisle       Yes      Yes          1243   \n",
       "1      188771            Aisle       Yes       No          1429   \n",
       "2      180176          End-cap       Yes      Yes          1168   \n",
       "3      112917            Aisle       Yes       No          1348   \n",
       "4      192936          End-cap       Yes      Yes          1602   \n",
       "\n",
       "                   name  price currency    terms section  season    material  \\\n",
       "0   BASIC PUFFER JACKET  78.99      USD  jackets     MAN  Winter   Polyester   \n",
       "1         TUXEDO JACKET  14.99      USD  jackets     MAN  Autumn      Cotton   \n",
       "2  SLIM FIT SUIT JACKET  71.95      USD  jackets   WOMAN  Autumn   Polyester   \n",
       "3   STRETCH SUIT JACKET  30.99      USD  jackets     MAN  Spring   Polyester   \n",
       "4   DOUBLE FACED JACKET  22.99      USD  jackets   WOMAN  Winter  Wool Blend   \n",
       "\n",
       "    origin  total revenue  median price  premium item  cost estimate  \n",
       "0   Brazil        98184.6         35.95          True           31.6  \n",
       "1   Turkey        21420.7         35.95         False            6.0  \n",
       "2  Morocco        84037.6         35.95          True           28.8  \n",
       "3    China        41774.5         35.95         False           12.4  \n",
       "4    China        36830.0         35.95         False            9.2  "
      ]
     },
     "execution_count": 38,
     "metadata": {},
     "output_type": "execute_result"
    }
   ],
   "source": [
    "df.head()"
   ]
  },
  {
   "cell_type": "code",
   "execution_count": 39,
   "id": "51ff5910",
   "metadata": {
    "execution": {
     "iopub.execute_input": "2025-11-01T15:56:17.045220Z",
     "iopub.status.busy": "2025-11-01T15:56:17.044893Z",
     "iopub.status.idle": "2025-11-01T15:56:17.246619Z",
     "shell.execute_reply": "2025-11-01T15:56:17.245759Z"
    },
    "papermill": {
     "duration": 0.228777,
     "end_time": "2025-11-01T15:56:17.248285",
     "exception": false,
     "start_time": "2025-11-01T15:56:17.019508",
     "status": "completed"
    },
    "tags": []
   },
   "outputs": [
    {
     "data": {
      "text/plain": [
       "<Axes: ylabel='season'>"
      ]
     },
     "execution_count": 39,
     "metadata": {},
     "output_type": "execute_result"
    },
    {
     "data": {
      "image/png": "[encoded data removed]",
      "text/plain": [
       "<Figure size 640x480 with 1 Axes>"
      ]
     },
     "metadata": {},
     "output_type": "display_data"
    }
   ],
   "source": [
    "df.groupby('season')['total revenue'].mean().sort_values(ascending=True).plot.barh(color='skyblue', edgecolor=\"black\")"
   ]
  },
  {
   "cell_type": "markdown",
   "id": "f771d62a",
   "metadata": {
    "papermill": {
     "duration": 0.026569,
     "end_time": "2025-11-01T15:56:17.304253",
     "exception": false,
     "start_time": "2025-11-01T15:56:17.277684",
     "status": "completed"
    },
    "tags": []
   },
   "source": [
    "Can we predict if a product will have high sales volume based on its attributes?"
   ]
  },
  {
   "cell_type": "code",
   "execution_count": 40,
   "id": "96abadb8",
   "metadata": {
    "execution": {
     "iopub.execute_input": "2025-11-01T15:56:17.355794Z",
     "iopub.status.busy": "2025-11-01T15:56:17.355466Z",
     "iopub.status.idle": "2025-11-01T15:56:17.360077Z",
     "shell.execute_reply": "2025-11-01T15:56:17.359270Z"
    },
    "papermill": {
     "duration": 0.031769,
     "end_time": "2025-11-01T15:56:17.361409",
     "exception": false,
     "start_time": "2025-11-01T15:56:17.329640",
     "status": "completed"
    },
    "tags": []
   },
   "outputs": [],
   "source": [
    "median_sales = df['Sales Volume'].median()"
   ]
  },
  {
   "cell_type": "markdown",
   "id": "2c90c5f3",
   "metadata": {
    "papermill": {
     "duration": 0.024366,
     "end_time": "2025-11-01T15:56:17.410708",
     "exception": false,
     "start_time": "2025-11-01T15:56:17.386342",
     "status": "completed"
    },
    "tags": []
   },
   "source": [
    "Create the target column"
   ]
  },
  {
   "cell_type": "code",
   "execution_count": 41,
   "id": "a1742be2",
   "metadata": {
    "execution": {
     "iopub.execute_input": "2025-11-01T15:56:17.464699Z",
     "iopub.status.busy": "2025-11-01T15:56:17.464237Z",
     "iopub.status.idle": "2025-11-01T15:56:17.470655Z",
     "shell.execute_reply": "2025-11-01T15:56:17.470027Z"
    },
    "papermill": {
     "duration": 0.036836,
     "end_time": "2025-11-01T15:56:17.471971",
     "exception": false,
     "start_time": "2025-11-01T15:56:17.435135",
     "status": "completed"
    },
    "tags": []
   },
   "outputs": [],
   "source": [
    "df['HighSales'] = (df['Sales Volume'] > median_sales).astype(int)"
   ]
  },
  {
   "cell_type": "code",
   "execution_count": 42,
   "id": "5d19115b",
   "metadata": {
    "execution": {
     "iopub.execute_input": "2025-11-01T15:56:17.539285Z",
     "iopub.status.busy": "2025-11-01T15:56:17.538836Z",
     "iopub.status.idle": "2025-11-01T15:56:17.560564Z",
     "shell.execute_reply": "2025-11-01T15:56:17.559791Z"
    },
    "papermill": {
     "duration": 0.056741,
     "end_time": "2025-11-01T15:56:17.561921",
     "exception": false,
     "start_time": "2025-11-01T15:56:17.505180",
     "status": "completed"
    },
    "tags": []
   },
   "outputs": [
    {
     "data": {
      "text/html": [
       "<div>\n",
       "<style scoped>\n",
       "    .dataframe tbody tr th:only-of-type {\n",
       "        vertical-align: middle;\n",
       "    }\n",
       "\n",
       "    .dataframe tbody tr th {\n",
       "        vertical-align: top;\n",
       "    }\n",
       "\n",
       "    .dataframe thead th {\n",
       "        text-align: right;\n",
       "    }\n",
       "</style>\n",
       "<table border=\"1\" class=\"dataframe\">\n",
       "  <thead>\n",
       "    <tr style=\"text-align: right;\">\n",
       "      <th></th>\n",
       "      <th>Product ID</th>\n",
       "      <th>Product Position</th>\n",
       "      <th>Promotion</th>\n",
       "      <th>Seasonal</th>\n",
       "      <th>Sales Volume</th>\n",
       "      <th>name</th>\n",
       "      <th>price</th>\n",
       "      <th>currency</th>\n",
       "      <th>terms</th>\n",
       "      <th>section</th>\n",
       "      <th>season</th>\n",
       "      <th>material</th>\n",
       "      <th>origin</th>\n",
       "      <th>total revenue</th>\n",
       "      <th>median price</th>\n",
       "      <th>premium item</th>\n",
       "      <th>cost estimate</th>\n",
       "      <th>HighSales</th>\n",
       "    </tr>\n",
       "  </thead>\n",
       "  <tbody>\n",
       "    <tr>\n",
       "      <th>0</th>\n",
       "      <td>185102</td>\n",
       "      <td>Aisle</td>\n",
       "      <td>Yes</td>\n",
       "      <td>Yes</td>\n",
       "      <td>1243</td>\n",
       "      <td>BASIC PUFFER JACKET</td>\n",
       "      <td>78.99</td>\n",
       "      <td>USD</td>\n",
       "      <td>jackets</td>\n",
       "      <td>MAN</td>\n",
       "      <td>Winter</td>\n",
       "      <td>Polyester</td>\n",
       "      <td>Brazil</td>\n",
       "      <td>98184.6</td>\n",
       "      <td>35.95</td>\n",
       "      <td>True</td>\n",
       "      <td>31.6</td>\n",
       "      <td>1</td>\n",
       "    </tr>\n",
       "    <tr>\n",
       "      <th>1</th>\n",
       "      <td>188771</td>\n",
       "      <td>Aisle</td>\n",
       "      <td>Yes</td>\n",
       "      <td>No</td>\n",
       "      <td>1429</td>\n",
       "      <td>TUXEDO JACKET</td>\n",
       "      <td>14.99</td>\n",
       "      <td>USD</td>\n",
       "      <td>jackets</td>\n",
       "      <td>MAN</td>\n",
       "      <td>Autumn</td>\n",
       "      <td>Cotton</td>\n",
       "      <td>Turkey</td>\n",
       "      <td>21420.7</td>\n",
       "      <td>35.95</td>\n",
       "      <td>False</td>\n",
       "      <td>6.0</td>\n",
       "      <td>1</td>\n",
       "    </tr>\n",
       "    <tr>\n",
       "      <th>2</th>\n",
       "      <td>180176</td>\n",
       "      <td>End-cap</td>\n",
       "      <td>Yes</td>\n",
       "      <td>Yes</td>\n",
       "      <td>1168</td>\n",
       "      <td>SLIM FIT SUIT JACKET</td>\n",
       "      <td>71.95</td>\n",
       "      <td>USD</td>\n",
       "      <td>jackets</td>\n",
       "      <td>WOMAN</td>\n",
       "      <td>Autumn</td>\n",
       "      <td>Polyester</td>\n",
       "      <td>Morocco</td>\n",
       "      <td>84037.6</td>\n",
       "      <td>35.95</td>\n",
       "      <td>True</td>\n",
       "      <td>28.8</td>\n",
       "      <td>1</td>\n",
       "    </tr>\n",
       "    <tr>\n",
       "      <th>3</th>\n",
       "      <td>112917</td>\n",
       "      <td>Aisle</td>\n",
       "      <td>Yes</td>\n",
       "      <td>No</td>\n",
       "      <td>1348</td>\n",
       "      <td>STRETCH SUIT JACKET</td>\n",
       "      <td>30.99</td>\n",
       "      <td>USD</td>\n",
       "      <td>jackets</td>\n",
       "      <td>MAN</td>\n",
       "      <td>Spring</td>\n",
       "      <td>Polyester</td>\n",
       "      <td>China</td>\n",
       "      <td>41774.5</td>\n",
       "      <td>35.95</td>\n",
       "      <td>False</td>\n",
       "      <td>12.4</td>\n",
       "      <td>1</td>\n",
       "    </tr>\n",
       "    <tr>\n",
       "      <th>4</th>\n",
       "      <td>192936</td>\n",
       "      <td>End-cap</td>\n",
       "      <td>Yes</td>\n",
       "      <td>Yes</td>\n",
       "      <td>1602</td>\n",
       "      <td>DOUBLE FACED JACKET</td>\n",
       "      <td>22.99</td>\n",
       "      <td>USD</td>\n",
       "      <td>jackets</td>\n",
       "      <td>WOMAN</td>\n",
       "      <td>Winter</td>\n",
       "      <td>Wool Blend</td>\n",
       "      <td>China</td>\n",
       "      <td>36830.0</td>\n",
       "      <td>35.95</td>\n",
       "      <td>False</td>\n",
       "      <td>9.2</td>\n",
       "      <td>1</td>\n",
       "    </tr>\n",
       "    <tr>\n",
       "      <th>5</th>\n",
       "      <td>117590</td>\n",
       "      <td>End-cap</td>\n",
       "      <td>Yes</td>\n",
       "      <td>Yes</td>\n",
       "      <td>1282</td>\n",
       "      <td>CONTRASTING COLLAR JACKET</td>\n",
       "      <td>25.95</td>\n",
       "      <td>USD</td>\n",
       "      <td>jackets</td>\n",
       "      <td>WOMAN</td>\n",
       "      <td>Autumn</td>\n",
       "      <td>Cotton</td>\n",
       "      <td>Turkey</td>\n",
       "      <td>33267.9</td>\n",
       "      <td>35.95</td>\n",
       "      <td>False</td>\n",
       "      <td>10.4</td>\n",
       "      <td>1</td>\n",
       "    </tr>\n",
       "    <tr>\n",
       "      <th>6</th>\n",
       "      <td>189118</td>\n",
       "      <td>Front of Store</td>\n",
       "      <td>No</td>\n",
       "      <td>No</td>\n",
       "      <td>688</td>\n",
       "      <td>FAUX LEATHER PUFFER JACKET</td>\n",
       "      <td>87.99</td>\n",
       "      <td>USD</td>\n",
       "      <td>jackets</td>\n",
       "      <td>MAN</td>\n",
       "      <td>Winter</td>\n",
       "      <td>Acrylic</td>\n",
       "      <td>China</td>\n",
       "      <td>60537.1</td>\n",
       "      <td>35.95</td>\n",
       "      <td>True</td>\n",
       "      <td>35.2</td>\n",
       "      <td>0</td>\n",
       "    </tr>\n",
       "    <tr>\n",
       "      <th>7</th>\n",
       "      <td>182157</td>\n",
       "      <td>Aisle</td>\n",
       "      <td>Yes</td>\n",
       "      <td>Yes</td>\n",
       "      <td>1711</td>\n",
       "      <td>SUIT JACKET IN 100% LINEN</td>\n",
       "      <td>24.00</td>\n",
       "      <td>USD</td>\n",
       "      <td>jackets</td>\n",
       "      <td>WOMAN</td>\n",
       "      <td>Summer</td>\n",
       "      <td>Cotton</td>\n",
       "      <td>Portugal</td>\n",
       "      <td>41064.0</td>\n",
       "      <td>35.95</td>\n",
       "      <td>False</td>\n",
       "      <td>9.6</td>\n",
       "      <td>1</td>\n",
       "    </tr>\n",
       "    <tr>\n",
       "      <th>8</th>\n",
       "      <td>141861</td>\n",
       "      <td>Aisle</td>\n",
       "      <td>No</td>\n",
       "      <td>Yes</td>\n",
       "      <td>857</td>\n",
       "      <td>100% WOOL SUIT JACKET</td>\n",
       "      <td>32.95</td>\n",
       "      <td>USD</td>\n",
       "      <td>jackets</td>\n",
       "      <td>WOMAN</td>\n",
       "      <td>Winter</td>\n",
       "      <td>Wool</td>\n",
       "      <td>India</td>\n",
       "      <td>28238.2</td>\n",
       "      <td>35.95</td>\n",
       "      <td>False</td>\n",
       "      <td>13.2</td>\n",
       "      <td>0</td>\n",
       "    </tr>\n",
       "    <tr>\n",
       "      <th>9</th>\n",
       "      <td>137121</td>\n",
       "      <td>Aisle</td>\n",
       "      <td>No</td>\n",
       "      <td>No</td>\n",
       "      <td>769</td>\n",
       "      <td>100% FEATHER FILL PUFFER JACKET</td>\n",
       "      <td>39.95</td>\n",
       "      <td>USD</td>\n",
       "      <td>jackets</td>\n",
       "      <td>MAN</td>\n",
       "      <td>Autumn</td>\n",
       "      <td>Wool Blend</td>\n",
       "      <td>China</td>\n",
       "      <td>30721.6</td>\n",
       "      <td>35.95</td>\n",
       "      <td>True</td>\n",
       "      <td>16.0</td>\n",
       "      <td>0</td>\n",
       "    </tr>\n",
       "  </tbody>\n",
       "</table>\n",
       "</div>"
      ],
      "text/plain": [
       "   Product ID Product Position Promotion Seasonal  Sales Volume  \\\n",
       "0      185102            Aisle       Yes      Yes          1243   \n",
       "1      188771            Aisle       Yes       No          1429   \n",
       "2      180176          End-cap       Yes      Yes          1168   \n",
       "3      112917            Aisle       Yes       No          1348   \n",
       "4      192936          End-cap       Yes      Yes          1602   \n",
       "5      117590          End-cap       Yes      Yes          1282   \n",
       "6      189118   Front of Store        No       No           688   \n",
       "7      182157            Aisle       Yes      Yes          1711   \n",
       "8      141861            Aisle        No      Yes           857   \n",
       "9      137121            Aisle        No       No           769   \n",
       "\n",
       "                              name  price currency    terms section  season  \\\n",
       "0              BASIC PUFFER JACKET  78.99      USD  jackets     MAN  Winter   \n",
       "1                    TUXEDO JACKET  14.99      USD  jackets     MAN  Autumn   \n",
       "2             SLIM FIT SUIT JACKET  71.95      USD  jackets   WOMAN  Autumn   \n",
       "3              STRETCH SUIT JACKET  30.99      USD  jackets     MAN  Spring   \n",
       "4              DOUBLE FACED JACKET  22.99      USD  jackets   WOMAN  Winter   \n",
       "5        CONTRASTING COLLAR JACKET  25.95      USD  jackets   WOMAN  Autumn   \n",
       "6       FAUX LEATHER PUFFER JACKET  87.99      USD  jackets     MAN  Winter   \n",
       "7        SUIT JACKET IN 100% LINEN  24.00      USD  jackets   WOMAN  Summer   \n",
       "8            100% WOOL SUIT JACKET  32.95      USD  jackets   WOMAN  Winter   \n",
       "9  100% FEATHER FILL PUFFER JACKET  39.95      USD  jackets     MAN  Autumn   \n",
       "\n",
       "     material    origin  total revenue  median price  premium item  \\\n",
       "0   Polyester    Brazil        98184.6         35.95          True   \n",
       "1      Cotton    Turkey        21420.7         35.95         False   \n",
       "2   Polyester   Morocco        84037.6         35.95          True   \n",
       "3   Polyester     China        41774.5         35.95         False   \n",
       "4  Wool Blend     China        36830.0         35.95         False   \n",
       "5      Cotton    Turkey        33267.9         35.95         False   \n",
       "6     Acrylic     China        60537.1         35.95          True   \n",
       "7      Cotton  Portugal        41064.0         35.95         False   \n",
       "8        Wool     India        28238.2         35.95         False   \n",
       "9  Wool Blend     China        30721.6         35.95          True   \n",
       "\n",
       "   cost estimate  HighSales  \n",
       "0           31.6          1  \n",
       "1            6.0          1  \n",
       "2           28.8          1  \n",
       "3           12.4          1  \n",
       "4            9.2          1  \n",
       "5           10.4          1  \n",
       "6           35.2          0  \n",
       "7            9.6          1  \n",
       "8           13.2          0  \n",
       "9           16.0          0  "
      ]
     },
     "execution_count": 42,
     "metadata": {},
     "output_type": "execute_result"
    }
   ],
   "source": [
    "df.head(10)"
   ]
  },
  {
   "cell_type": "code",
   "execution_count": 43,
   "id": "c96b364a",
   "metadata": {
    "execution": {
     "iopub.execute_input": "2025-11-01T15:56:17.614174Z",
     "iopub.status.busy": "2025-11-01T15:56:17.613852Z",
     "iopub.status.idle": "2025-11-01T15:56:17.620301Z",
     "shell.execute_reply": "2025-11-01T15:56:17.619667Z"
    },
    "papermill": {
     "duration": 0.034456,
     "end_time": "2025-11-01T15:56:17.621556",
     "exception": false,
     "start_time": "2025-11-01T15:56:17.587100",
     "status": "completed"
    },
    "tags": []
   },
   "outputs": [],
   "source": [
    "df['Promotion'] = np.where(df['Promotion'] ==\"Yes\", True, False)"
   ]
  },
  {
   "cell_type": "code",
   "execution_count": 44,
   "id": "0140471c",
   "metadata": {
    "execution": {
     "iopub.execute_input": "2025-11-01T15:56:17.674215Z",
     "iopub.status.busy": "2025-11-01T15:56:17.673890Z",
     "iopub.status.idle": "2025-11-01T15:56:17.680836Z",
     "shell.execute_reply": "2025-11-01T15:56:17.680190Z"
    },
    "papermill": {
     "duration": 0.034855,
     "end_time": "2025-11-01T15:56:17.682417",
     "exception": false,
     "start_time": "2025-11-01T15:56:17.647562",
     "status": "completed"
    },
    "tags": []
   },
   "outputs": [],
   "source": [
    "df['Seasonal'] = np.where(df['Seasonal']=='Yes', True, False)"
   ]
  },
  {
   "cell_type": "code",
   "execution_count": 45,
   "id": "420db6df",
   "metadata": {
    "execution": {
     "iopub.execute_input": "2025-11-01T15:56:17.734575Z",
     "iopub.status.busy": "2025-11-01T15:56:17.734275Z",
     "iopub.status.idle": "2025-11-01T15:56:17.742632Z",
     "shell.execute_reply": "2025-11-01T15:56:17.741769Z"
    },
    "papermill": {
     "duration": 0.03595,
     "end_time": "2025-11-01T15:56:17.743970",
     "exception": false,
     "start_time": "2025-11-01T15:56:17.708020",
     "status": "completed"
    },
    "tags": []
   },
   "outputs": [
    {
     "data": {
      "text/plain": [
       "HighSales\n",
       "0    10135\n",
       "1    10117\n",
       "Name: count, dtype: int64"
      ]
     },
     "execution_count": 45,
     "metadata": {},
     "output_type": "execute_result"
    }
   ],
   "source": [
    "df['HighSales'].value_counts()"
   ]
  },
  {
   "cell_type": "markdown",
   "id": "3a581d95",
   "metadata": {
    "papermill": {
     "duration": 0.024805,
     "end_time": "2025-11-01T15:56:17.794380",
     "exception": false,
     "start_time": "2025-11-01T15:56:17.769575",
     "status": "completed"
    },
    "tags": []
   },
   "source": [
    "Choose features (columns) to use for prediction"
   ]
  },
  {
   "cell_type": "code",
   "execution_count": 46,
   "id": "8148b9c0",
   "metadata": {
    "execution": {
     "iopub.execute_input": "2025-11-01T15:56:17.846237Z",
     "iopub.status.busy": "2025-11-01T15:56:17.845934Z",
     "iopub.status.idle": "2025-11-01T15:56:17.850297Z",
     "shell.execute_reply": "2025-11-01T15:56:17.849493Z"
    },
    "papermill": {
     "duration": 0.031634,
     "end_time": "2025-11-01T15:56:17.851700",
     "exception": false,
     "start_time": "2025-11-01T15:56:17.820066",
     "status": "completed"
    },
    "tags": []
   },
   "outputs": [],
   "source": [
    "features = ['price', 'Product Position', 'Promotion', 'section','season']\n",
    "target = 'HighSales'"
   ]
  },
  {
   "cell_type": "code",
   "execution_count": 47,
   "id": "9f82f055",
   "metadata": {
    "execution": {
     "iopub.execute_input": "2025-11-01T15:56:17.904455Z",
     "iopub.status.busy": "2025-11-01T15:56:17.904109Z",
     "iopub.status.idle": "2025-11-01T15:56:17.910253Z",
     "shell.execute_reply": "2025-11-01T15:56:17.909516Z"
    },
    "papermill": {
     "duration": 0.034106,
     "end_time": "2025-11-01T15:56:17.911677",
     "exception": false,
     "start_time": "2025-11-01T15:56:17.877571",
     "status": "completed"
    },
    "tags": []
   },
   "outputs": [],
   "source": [
    "x = df[features]\n",
    "y = df[target]"
   ]
  },
  {
   "cell_type": "markdown",
   "id": "af514cf7",
   "metadata": {
    "papermill": {
     "duration": 0.026172,
     "end_time": "2025-11-01T15:56:17.963965",
     "exception": false,
     "start_time": "2025-11-01T15:56:17.937793",
     "status": "completed"
    },
    "tags": []
   },
   "source": [
    "Convert categorical text into numbers"
   ]
  },
  {
   "cell_type": "code",
   "execution_count": 48,
   "id": "9680f4e1",
   "metadata": {
    "execution": {
     "iopub.execute_input": "2025-11-01T15:56:18.016106Z",
     "iopub.status.busy": "2025-11-01T15:56:18.015816Z",
     "iopub.status.idle": "2025-11-01T15:56:18.029407Z",
     "shell.execute_reply": "2025-11-01T15:56:18.028653Z"
    },
    "papermill": {
     "duration": 0.041303,
     "end_time": "2025-11-01T15:56:18.030969",
     "exception": false,
     "start_time": "2025-11-01T15:56:17.989666",
     "status": "completed"
    },
    "tags": []
   },
   "outputs": [],
   "source": [
    "x = pd.get_dummies(x, drop_first=True)"
   ]
  },
  {
   "cell_type": "code",
   "execution_count": 49,
   "id": "d66478fd",
   "metadata": {
    "execution": {
     "iopub.execute_input": "2025-11-01T15:56:18.082961Z",
     "iopub.status.busy": "2025-11-01T15:56:18.082540Z",
     "iopub.status.idle": "2025-11-01T15:56:18.096951Z",
     "shell.execute_reply": "2025-11-01T15:56:18.096144Z"
    },
    "papermill": {
     "duration": 0.041965,
     "end_time": "2025-11-01T15:56:18.098259",
     "exception": false,
     "start_time": "2025-11-01T15:56:18.056294",
     "status": "completed"
    },
    "tags": []
   },
   "outputs": [
    {
     "data": {
      "text/html": [
       "<div>\n",
       "<style scoped>\n",
       "    .dataframe tbody tr th:only-of-type {\n",
       "        vertical-align: middle;\n",
       "    }\n",
       "\n",
       "    .dataframe tbody tr th {\n",
       "        vertical-align: top;\n",
       "    }\n",
       "\n",
       "    .dataframe thead th {\n",
       "        text-align: right;\n",
       "    }\n",
       "</style>\n",
       "<table border=\"1\" class=\"dataframe\">\n",
       "  <thead>\n",
       "    <tr style=\"text-align: right;\">\n",
       "      <th></th>\n",
       "      <th>price</th>\n",
       "      <th>Promotion</th>\n",
       "      <th>Product Position_End-cap</th>\n",
       "      <th>Product Position_Front of Store</th>\n",
       "      <th>section_WOMAN</th>\n",
       "      <th>season_Spring</th>\n",
       "      <th>season_Summer</th>\n",
       "      <th>season_Winter</th>\n",
       "    </tr>\n",
       "  </thead>\n",
       "  <tbody>\n",
       "    <tr>\n",
       "      <th>0</th>\n",
       "      <td>78.99</td>\n",
       "      <td>True</td>\n",
       "      <td>False</td>\n",
       "      <td>False</td>\n",
       "      <td>False</td>\n",
       "      <td>False</td>\n",
       "      <td>False</td>\n",
       "      <td>True</td>\n",
       "    </tr>\n",
       "    <tr>\n",
       "      <th>1</th>\n",
       "      <td>14.99</td>\n",
       "      <td>True</td>\n",
       "      <td>False</td>\n",
       "      <td>False</td>\n",
       "      <td>False</td>\n",
       "      <td>False</td>\n",
       "      <td>False</td>\n",
       "      <td>False</td>\n",
       "    </tr>\n",
       "    <tr>\n",
       "      <th>2</th>\n",
       "      <td>71.95</td>\n",
       "      <td>True</td>\n",
       "      <td>True</td>\n",
       "      <td>False</td>\n",
       "      <td>True</td>\n",
       "      <td>False</td>\n",
       "      <td>False</td>\n",
       "      <td>False</td>\n",
       "    </tr>\n",
       "    <tr>\n",
       "      <th>3</th>\n",
       "      <td>30.99</td>\n",
       "      <td>True</td>\n",
       "      <td>False</td>\n",
       "      <td>False</td>\n",
       "      <td>False</td>\n",
       "      <td>True</td>\n",
       "      <td>False</td>\n",
       "      <td>False</td>\n",
       "    </tr>\n",
       "    <tr>\n",
       "      <th>4</th>\n",
       "      <td>22.99</td>\n",
       "      <td>True</td>\n",
       "      <td>True</td>\n",
       "      <td>False</td>\n",
       "      <td>True</td>\n",
       "      <td>False</td>\n",
       "      <td>False</td>\n",
       "      <td>True</td>\n",
       "    </tr>\n",
       "    <tr>\n",
       "      <th>...</th>\n",
       "      <td>...</td>\n",
       "      <td>...</td>\n",
       "      <td>...</td>\n",
       "      <td>...</td>\n",
       "      <td>...</td>\n",
       "      <td>...</td>\n",
       "      <td>...</td>\n",
       "      <td>...</td>\n",
       "    </tr>\n",
       "    <tr>\n",
       "      <th>20247</th>\n",
       "      <td>31.95</td>\n",
       "      <td>True</td>\n",
       "      <td>False</td>\n",
       "      <td>True</td>\n",
       "      <td>True</td>\n",
       "      <td>False</td>\n",
       "      <td>True</td>\n",
       "      <td>False</td>\n",
       "    </tr>\n",
       "    <tr>\n",
       "      <th>20248</th>\n",
       "      <td>49.99</td>\n",
       "      <td>False</td>\n",
       "      <td>False</td>\n",
       "      <td>False</td>\n",
       "      <td>True</td>\n",
       "      <td>True</td>\n",
       "      <td>False</td>\n",
       "      <td>False</td>\n",
       "    </tr>\n",
       "    <tr>\n",
       "      <th>20249</th>\n",
       "      <td>20.99</td>\n",
       "      <td>True</td>\n",
       "      <td>False</td>\n",
       "      <td>False</td>\n",
       "      <td>True</td>\n",
       "      <td>True</td>\n",
       "      <td>False</td>\n",
       "      <td>False</td>\n",
       "    </tr>\n",
       "    <tr>\n",
       "      <th>20250</th>\n",
       "      <td>64.95</td>\n",
       "      <td>False</td>\n",
       "      <td>False</td>\n",
       "      <td>False</td>\n",
       "      <td>True</td>\n",
       "      <td>False</td>\n",
       "      <td>False</td>\n",
       "      <td>True</td>\n",
       "    </tr>\n",
       "    <tr>\n",
       "      <th>20251</th>\n",
       "      <td>64.99</td>\n",
       "      <td>False</td>\n",
       "      <td>False</td>\n",
       "      <td>False</td>\n",
       "      <td>False</td>\n",
       "      <td>False</td>\n",
       "      <td>True</td>\n",
       "      <td>False</td>\n",
       "    </tr>\n",
       "  </tbody>\n",
       "</table>\n",
       "<p>20252 rows × 8 columns</p>\n",
       "</div>"
      ],
      "text/plain": [
       "       price  Promotion  Product Position_End-cap  \\\n",
       "0      78.99       True                     False   \n",
       "1      14.99       True                     False   \n",
       "2      71.95       True                      True   \n",
       "3      30.99       True                     False   \n",
       "4      22.99       True                      True   \n",
       "...      ...        ...                       ...   \n",
       "20247  31.95       True                     False   \n",
       "20248  49.99      False                     False   \n",
       "20249  20.99       True                     False   \n",
       "20250  64.95      False                     False   \n",
       "20251  64.99      False                     False   \n",
       "\n",
       "       Product Position_Front of Store  section_WOMAN  season_Spring  \\\n",
       "0                                False          False          False   \n",
       "1                                False          False          False   \n",
       "2                                False           True          False   \n",
       "3                                False          False           True   \n",
       "4                                False           True          False   \n",
       "...                                ...            ...            ...   \n",
       "20247                             True           True          False   \n",
       "20248                            False           True           True   \n",
       "20249                            False           True           True   \n",
       "20250                            False           True          False   \n",
       "20251                            False          False          False   \n",
       "\n",
       "       season_Summer  season_Winter  \n",
       "0              False           True  \n",
       "1              False          False  \n",
       "2              False          False  \n",
       "3              False          False  \n",
       "4              False           True  \n",
       "...              ...            ...  \n",
       "20247           True          False  \n",
       "20248          False          False  \n",
       "20249          False          False  \n",
       "20250          False           True  \n",
       "20251           True          False  \n",
       "\n",
       "[20252 rows x 8 columns]"
      ]
     },
     "execution_count": 49,
     "metadata": {},
     "output_type": "execute_result"
    }
   ],
   "source": [
    "x"
   ]
  },
  {
   "cell_type": "markdown",
   "id": "990e8dc2",
   "metadata": {
    "papermill": {
     "duration": 0.025482,
     "end_time": "2025-11-01T15:56:18.149625",
     "exception": false,
     "start_time": "2025-11-01T15:56:18.124143",
     "status": "completed"
    },
    "tags": []
   },
   "source": [
    "Train / Test split"
   ]
  },
  {
   "cell_type": "code",
   "execution_count": 50,
   "id": "09882de5",
   "metadata": {
    "execution": {
     "iopub.execute_input": "2025-11-01T15:56:18.202518Z",
     "iopub.status.busy": "2025-11-01T15:56:18.202235Z",
     "iopub.status.idle": "2025-11-01T15:56:18.497274Z",
     "shell.execute_reply": "2025-11-01T15:56:18.496420Z"
    },
    "papermill": {
     "duration": 0.32389,
     "end_time": "2025-11-01T15:56:18.498915",
     "exception": false,
     "start_time": "2025-11-01T15:56:18.175025",
     "status": "completed"
    },
    "tags": []
   },
   "outputs": [],
   "source": [
    "from sklearn.model_selection import train_test_split\n",
    "\n",
    "x_train, x_test, y_train, y_test = train_test_split(\n",
    "    x, y, test_size=0.2, random_state=42\n",
    ")"
   ]
  },
  {
   "cell_type": "markdown",
   "id": "4c38503e",
   "metadata": {
    "papermill": {
     "duration": 0.025806,
     "end_time": "2025-11-01T15:56:18.551705",
     "exception": false,
     "start_time": "2025-11-01T15:56:18.525899",
     "status": "completed"
    },
    "tags": []
   },
   "source": [
    "Train a model (Random Forest)"
   ]
  },
  {
   "cell_type": "code",
   "execution_count": 51,
   "id": "8d2eaa14",
   "metadata": {
    "execution": {
     "iopub.execute_input": "2025-11-01T15:56:18.610268Z",
     "iopub.status.busy": "2025-11-01T15:56:18.609283Z",
     "iopub.status.idle": "2025-11-01T15:56:19.658866Z",
     "shell.execute_reply": "2025-11-01T15:56:19.657909Z"
    },
    "papermill": {
     "duration": 1.082821,
     "end_time": "2025-11-01T15:56:19.660297",
     "exception": false,
     "start_time": "2025-11-01T15:56:18.577476",
     "status": "completed"
    },
    "tags": []
   },
   "outputs": [
    {
     "data": {
      "text/html": [
       "<style>#sk-container-id-1 {color: black;background-color: white;}#sk-container-id-1 pre{padding: 0;}#sk-container-id-1 div.sk-toggleable {background-color: white;}#sk-container-id-1 label.sk-toggleable__label {cursor: pointer;display: block;width: 100%;margin-bottom: 0;padding: 0.3em;box-sizing: border-box;text-align: center;}#sk-container-id-1 label.sk-toggleable__label-arrow:before {content: \"▸\";float: left;margin-right: 0.25em;color: #696969;}#sk-container-id-1 label.sk-toggleable__label-arrow:hover:before {color: black;}#sk-container-id-1 div.sk-estimator:hover label.sk-toggleable__label-arrow:before {color: black;}#sk-container-id-1 div.sk-toggleable__content {max-height: 0;max-width: 0;overflow: hidden;text-align: left;background-color: #f0f8ff;}#sk-container-id-1 div.sk-toggleable__content pre {margin: 0.2em;color: black;border-radius: 0.25em;background-color: #f0f8ff;}#sk-container-id-1 input.sk-toggleable__control:checked~div.sk-toggleable__content {max-height: 200px;max-width: 100%;overflow: auto;}#sk-container-id-1 input.sk-toggleable__control:checked~label.sk-toggleable__label-arrow:before {content: \"▾\";}#sk-container-id-1 div.sk-estimator input.sk-toggleable__control:checked~label.sk-toggleable__label {background-color: #d4ebff;}#sk-container-id-1 div.sk-label input.sk-toggleable__control:checked~label.sk-toggleable__label {background-color: #d4ebff;}#sk-container-id-1 input.sk-hidden--visually {border: 0;clip: rect(1px 1px 1px 1px);clip: rect(1px, 1px, 1px, 1px);height: 1px;margin: -1px;overflow: hidden;padding: 0;position: absolute;width: 1px;}#sk-container-id-1 div.sk-estimator {font-family: monospace;background-color: #f0f8ff;border: 1px dotted black;border-radius: 0.25em;box-sizing: border-box;margin-bottom: 0.5em;}#sk-container-id-1 div.sk-estimator:hover {background-color: #d4ebff;}#sk-container-id-1 div.sk-parallel-item::after {content: \"\";width: 100%;border-bottom: 1px solid gray;flex-grow: 1;}#sk-container-id-1 div.sk-label:hover label.sk-toggleable__label {background-color: #d4ebff;}#sk-container-id-1 div.sk-serial::before {content: \"\";position: absolute;border-left: 1px solid gray;box-sizing: border-box;top: 0;bottom: 0;left: 50%;z-index: 0;}#sk-container-id-1 div.sk-serial {display: flex;flex-direction: column;align-items: center;background-color: white;padding-right: 0.2em;padding-left: 0.2em;position: relative;}#sk-container-id-1 div.sk-item {position: relative;z-index: 1;}#sk-container-id-1 div.sk-parallel {display: flex;align-items: stretch;justify-content: center;background-color: white;position: relative;}#sk-container-id-1 div.sk-item::before, #sk-container-id-1 div.sk-parallel-item::before {content: \"\";position: absolute;border-left: 1px solid gray;box-sizing: border-box;top: 0;bottom: 0;left: 50%;z-index: -1;}#sk-container-id-1 div.sk-parallel-item {display: flex;flex-direction: column;z-index: 1;position: relative;background-color: white;}#sk-container-id-1 div.sk-parallel-item:first-child::after {align-self: flex-end;width: 50%;}#sk-container-id-1 div.sk-parallel-item:last-child::after {align-self: flex-start;width: 50%;}#sk-container-id-1 div.sk-parallel-item:only-child::after {width: 0;}#sk-container-id-1 div.sk-dashed-wrapped {border: 1px dashed gray;margin: 0 0.4em 0.5em 0.4em;box-sizing: border-box;padding-bottom: 0.4em;background-color: white;}#sk-container-id-1 div.sk-label label {font-family: monospace;font-weight: bold;display: inline-block;line-height: 1.2em;}#sk-container-id-1 div.sk-label-container {text-align: center;}#sk-container-id-1 div.sk-container {/* jupyter's `normalize.less` sets `[hidden] { display: none; }` but bootstrap.min.css set `[hidden] { display: none !important; }` so we also need the `!important` here to be able to override the default hidden behavior on the sphinx rendered scikit-learn.org. See: https://github.com/scikit-learn/scikit-learn/issues/21755 */display: inline-block !important;position: relative;}#sk-container-id-1 div.sk-text-repr-fallback {display: none;}</style><div id=\"sk-container-id-1\" class=\"sk-top-container\"><div class=\"sk-text-repr-fallback\"><pre>RandomForestClassifier()</pre><b>In a Jupyter environment, please rerun this cell to show the HTML representation or trust the notebook. <br />On GitHub, the HTML representation is unable to render, please try loading this page with nbviewer.org.</b></div><div class=\"sk-container\" hidden><div class=\"sk-item\"><div class=\"sk-estimator sk-toggleable\"><input class=\"sk-toggleable__control sk-hidden--visually\" id=\"sk-estimator-id-1\" type=\"checkbox\" checked><label for=\"sk-estimator-id-1\" class=\"sk-toggleable__label sk-toggleable__label-arrow\">RandomForestClassifier</label><div class=\"sk-toggleable__content\"><pre>RandomForestClassifier()</pre></div></div></div></div></div>"
      ],
      "text/plain": [
       "RandomForestClassifier()"
      ]
     },
     "execution_count": 51,
     "metadata": {},
     "output_type": "execute_result"
    }
   ],
   "source": [
    "from sklearn.ensemble import RandomForestClassifier\n",
    "\n",
    "model = RandomForestClassifier()\n",
    "model.fit(x_train, y_train)"
   ]
  },
  {
   "cell_type": "markdown",
   "id": "db503e7a",
   "metadata": {
    "papermill": {
     "duration": 0.036442,
     "end_time": "2025-11-01T15:56:19.724183",
     "exception": false,
     "start_time": "2025-11-01T15:56:19.687741",
     "status": "completed"
    },
    "tags": []
   },
   "source": [
    "Test how good the model is"
   ]
  },
  {
   "cell_type": "code",
   "execution_count": 52,
   "id": "ac72d1e2",
   "metadata": {
    "execution": {
     "iopub.execute_input": "2025-11-01T15:56:19.779948Z",
     "iopub.status.busy": "2025-11-01T15:56:19.779656Z",
     "iopub.status.idle": "2025-11-01T15:56:19.858383Z",
     "shell.execute_reply": "2025-11-01T15:56:19.857180Z"
    },
    "papermill": {
     "duration": 0.108962,
     "end_time": "2025-11-01T15:56:19.860010",
     "exception": false,
     "start_time": "2025-11-01T15:56:19.751048",
     "status": "completed"
    },
    "tags": []
   },
   "outputs": [
    {
     "name": "stdout",
     "output_type": "stream",
     "text": [
      "Accuracy: 0.9271784744507529\n",
      "              precision    recall  f1-score   support\n",
      "\n",
      "           0       0.92      0.94      0.93      2024\n",
      "           1       0.94      0.91      0.93      2027\n",
      "\n",
      "    accuracy                           0.93      4051\n",
      "   macro avg       0.93      0.93      0.93      4051\n",
      "weighted avg       0.93      0.93      0.93      4051\n",
      "\n"
     ]
    }
   ],
   "source": [
    "from sklearn.metrics import accuracy_score, classification_report\n",
    "\n",
    "y_pred = model.predict(x_test)\n",
    "\n",
    "print(\"Accuracy:\", accuracy_score(y_test, y_pred))\n",
    "print(classification_report(y_test, y_pred))"
   ]
  },
  {
   "cell_type": "markdown",
   "id": "422d7f06",
   "metadata": {
    "papermill": {
     "duration": 0.02568,
     "end_time": "2025-11-01T15:56:19.912245",
     "exception": false,
     "start_time": "2025-11-01T15:56:19.886565",
     "status": "completed"
    },
    "tags": []
   },
   "source": [
    "Use the model to make predictions"
   ]
  },
  {
   "cell_type": "code",
   "execution_count": 53,
   "id": "92828e7b",
   "metadata": {
    "execution": {
     "iopub.execute_input": "2025-11-01T15:56:19.965162Z",
     "iopub.status.busy": "2025-11-01T15:56:19.964400Z",
     "iopub.status.idle": "2025-11-01T15:56:19.979979Z",
     "shell.execute_reply": "2025-11-01T15:56:19.979182Z"
    },
    "papermill": {
     "duration": 0.0436,
     "end_time": "2025-11-01T15:56:19.981330",
     "exception": false,
     "start_time": "2025-11-01T15:56:19.937730",
     "status": "completed"
    },
    "tags": []
   },
   "outputs": [
    {
     "data": {
      "text/plain": [
       "array([1])"
      ]
     },
     "execution_count": 53,
     "metadata": {},
     "output_type": "execute_result"
    }
   ],
   "source": [
    "example = x.iloc[0:1]   # first product\n",
    "model.predict(example)"
   ]
  },
  {
   "cell_type": "markdown",
   "id": "a8d4def9",
   "metadata": {
    "papermill": {
     "duration": 0.025254,
     "end_time": "2025-11-01T15:56:20.033032",
     "exception": false,
     "start_time": "2025-11-01T15:56:20.007778",
     "status": "completed"
    },
    "tags": []
   },
   "source": [
    "which features mattered most?"
   ]
  },
  {
   "cell_type": "code",
   "execution_count": 54,
   "id": "3233fd0a",
   "metadata": {
    "execution": {
     "iopub.execute_input": "2025-11-01T15:56:20.084921Z",
     "iopub.status.busy": "2025-11-01T15:56:20.084569Z",
     "iopub.status.idle": "2025-11-01T15:56:20.328496Z",
     "shell.execute_reply": "2025-11-01T15:56:20.327560Z"
    },
    "papermill": {
     "duration": 0.271731,
     "end_time": "2025-11-01T15:56:20.330147",
     "exception": false,
     "start_time": "2025-11-01T15:56:20.058416",
     "status": "completed"
    },
    "tags": []
   },
   "outputs": [
    {
     "data": {
      "image/png": "[encoded data removed]",
      "text/plain": [
       "<Figure size 640x480 with 1 Axes>"
      ]
     },
     "metadata": {},
     "output_type": "display_data"
    }
   ],
   "source": [
    "importance = pd.Series(model.feature_importances_, index=x.columns)\n",
    "importance.nlargest(8).plot(kind='barh')\n",
    "plt.title(\"Which features influence sales?\")\n",
    "plt.show()"
   ]
  }
 ],
 "metadata": {
  "kaggle": {
   "accelerator": "none",
   "dataSources": [
    {
     "datasetId": 8557966,
     "sourceId": 13507590,
     "sourceType": "datasetVersion"
    },
    {
     "datasetId": 8626771,
     "sourceId": 13579015,
     "sourceType": "datasetVersion"
    }
   ],
   "dockerImageVersionId": 31153,
   "isGpuEnabled": false,
   "isInternetEnabled": true,
   "language": "python",
   "sourceType": "notebook"
  },
  "kernelspec": {
   "display_name": "Python 3",
   "language": "python",
   "name": "python3"
  },
  "language_info": {
   "codemirror_mode": {
    "name": "ipython",
    "version": 3
   },
   "file_extension": ".py",
   "mimetype": "text/x-python",
   "name": "python",
   "nbconvert_exporter": "python",
   "pygments_lexer": "ipython3",
   "version": "3.11.13"
  },
  "papermill": {
   "default_parameters": {},
   "duration": 16.691129,
   "end_time": "2025-11-01T15:56:21.078516",
   "environment_variables": {},
   "exception": null,
   "input_path": "__notebook__.ipynb",
   "output_path": "__notebook__.ipynb",
   "parameters": {},
   "start_time": "2025-11-01T15:56:04.387387",
   "version": "2.6.0"
  }
 },
 "nbformat": 4,
 "nbformat_minor": 5
}
